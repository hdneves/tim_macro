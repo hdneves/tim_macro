{
 "cells": [
  {
   "cell_type": "code",
   "execution_count": 1,
   "metadata": {},
   "outputs": [],
   "source": [
    "from pyspark.sql.types import StringType\n",
    "from datetime import datetime, timedelta\n",
    "from pyspark.sql import functions as F\n",
    "from pyspark.sql import SparkSession\n",
    "from google.cloud import storage\n",
    "from functools import reduce"
   ]
  },
  {
   "cell_type": "code",
   "execution_count": 2,
   "metadata": {
    "tags": [
     "parameters"
    ]
   },
   "outputs": [],
   "source": [
    "CURRENT_DATE_ARG = None"
   ]
  },
  {
   "cell_type": "code",
   "execution_count": 3,
   "metadata": {},
   "outputs": [],
   "source": [
    "BUCKET_NAME = \"vivo-api-manager-gcs-sp\"\n",
    "ORIGINS = [\"vivo-b2b-movel\", \"vivo-b2b-cross\"]\n",
    "CURRENT_DATE = datetime.strptime(CURRENT_DATE_ARG, '%Y-%m-%dT%H:%M:%S') if CURRENT_DATE_ARG is not None else datetime.today()"
   ]
  },
  {
   "cell_type": "code",
   "execution_count": 4,
   "metadata": {},
   "outputs": [
    {
     "name": "stdout",
     "output_type": "stream",
     "text": [
      "2024-10-22 16:08:29.007205\n"
     ]
    }
   ],
   "source": [
    "BRAZILIAN_TIMEDIFF = timedelta(hours=3)\n",
    "CURRENT_DATE = CURRENT_DATE - BRAZILIAN_TIMEDIFF\n",
    "print(CURRENT_DATE)"
   ]
  },
  {
   "cell_type": "code",
   "execution_count": 5,
   "metadata": {},
   "outputs": [],
   "source": [
    "def is_midnight_hour(hour):\n",
    "  return hour >= 0 and hour <= 4\n",
    "\n",
    "if is_midnight_hour(CURRENT_DATE.hour):\n",
    "  CURRENT_DATE = CURRENT_DATE - timedelta(days=1)\n",
    "  CURRENT_DATE = CURRENT_DATE.replace(hour=23, minute=59, second=59)\n"
   ]
  },
  {
   "cell_type": "code",
   "execution_count": 6,
   "metadata": {},
   "outputs": [
    {
     "name": "stdout",
     "output_type": "stream",
     "text": [
      "<google.cloud.storage.client.Client object at 0x7f2ec96726d0>\n"
     ]
    }
   ],
   "source": [
    "# spark = SparkSession.builder.appName(\"landing_to_raw\")\\\n",
    "#   .config(\"spark.sql.caseSensitive\", \"True\")\\\n",
    "#   .config(\"spark.sql.session.timeZone\", \"America/Sao_Paulo\")\\\n",
    "#   .getOrCreate()\n",
    "import os\n",
    "os.environ[\"GOOGLE_APPLICATION_CREDENTIALS\"] = \"/home/jovyan/work/macro_blip_b2b_movel/cloud-macro-blip-cb70a4da44e6.json\"\n",
    "\n",
    "# Criar a sessão Spark\n",
    "spark = SparkSession.builder \\\n",
    "    .appName(\"Ler Parquet do GCS\") \\\n",
    "    .config(\"spark.jars\", \n",
    "            \"/usr/local/spark/jars/gcs-connector-hadoop3-latest.jar,\"\n",
    "            \"/usr/local/spark/jars/hadoop-common-3.3.6.jar,\"\n",
    "            \"/usr/local/spark/jars/hadoop-client-api-3.3.4.jar,\"\n",
    "            \"/usr/local/spark/jars/hadoop-client-runtime-3.3.4.jar\") \\\n",
    "    .config(\"spark.hadoop.google.cloud.auth.service.account.enable\", \"true\") \\\n",
    "    .config(\"spark.hadoop.google.cloud.auth.service.account.json.keyfile\", os.environ[\"GOOGLE_APPLICATION_CREDENTIALS\"]) \\\n",
    "    .config(\"fs.gs.impl\", \"com.google.cloud.hadoop.fs.gcs.GoogleHadoopFileSystem\") \\\n",
    "    .config(\"fs.AbstractFileSystem.gs.impl\", \"com.google.cloud.hadoop.fs.gcs.GoogleHadoopFS\") \\\n",
    "    .getOrCreate()\n",
    "\n",
    "gcsClient = storage.Client()\n",
    "print(gcsClient)\n",
    "\n",
    "gcsClient = storage.Client()"
   ]
  },
  {
   "cell_type": "code",
   "execution_count": 7,
   "metadata": {},
   "outputs": [],
   "source": [
    "def get_path_in_landing_zone(datetime: datetime, origin: str):\n",
    "  return f\"gs://{BUCKET_NAME}/{origin}/landing-zone/{datetime.strftime('%Y%m%d')}.parquet\"\n",
    "\n",
    "def get_data_path_in_raw_zone(datetime: datetime, origin: str):\n",
    "  return f\"gs://{BUCKET_NAME}/{origin}/raw-zone/data/{datetime.strftime('%Y%m')}/{datetime.strftime('%Y%m%d-%H%M%S')}.parquet\"\n",
    "\n",
    "# def get_funnel_path_in_raw_zone(datetime: datetime, origin: str):\n",
    "#   return f\"gs://{BUCKET_NAME}/{origin}/raw-zone/funnel/{datetime.strftime('%Y%m')}/{datetime.strftime('%Y%m%d-%H%M%S')}.parquet\"\n",
    "\n",
    "def get_prefix_in_landing_zone(datetime: datetime, origin: str):\n",
    "  return f\"{origin}/landing-zone/{datetime.strftime('%Y%m%d')}\"\n",
    "\n",
    "def get_prefix_in_raw_zone(datetime: datetime, origin: str):\n",
    "  return f\"{origin}/raw-zone/{datetime.strftime('%Y%m%d')}\"\n",
    "\n",
    "def reduce_dataframe(dfs: list):\n",
    "  if len(dfs) == 0:\n",
    "    return spark.createDataFrame([], StringType())\n",
    "  elif len(dfs) == 1:\n",
    "    return dfs[0]\n",
    "  else:\n",
    "    return reduce(lambda df1, df2: df1.unionByName(df2, allowMissingColumns=True), dfs)"
   ]
  },
  {
   "cell_type": "code",
   "execution_count": 8,
   "metadata": {},
   "outputs": [],
   "source": [
    "bucket = gcsClient.get_bucket(BUCKET_NAME)\n",
    "\n",
    "blobs_per_origin = {}\n",
    "\n",
    "for origin in ORIGINS:\n",
    "    blobs = bucket.list_blobs(prefix=get_prefix_in_landing_zone(CURRENT_DATE, origin))\n",
    "\n",
    "    blobs_per_origin[origin] = [f\"gs://{BUCKET_NAME}/{blob.name}\" for blob in blobs]\n",
    "\n"
   ]
  },
  {
   "cell_type": "code",
   "execution_count": 12,
   "metadata": {},
   "outputs": [
    {
     "name": "stdout",
     "output_type": "stream",
     "text": [
      "gs://vivo-api-manager-gcs-sp/vivo-b2b-movel/landing-zone/20241022-002009.json\n"
     ]
    },
    {
     "ename": "AnalysisException",
     "evalue": "[COLUMN_ALREADY_EXISTS] The column `empresa`.`razaosocial` already exists. Consider to choose another name or rename the existing column.",
     "output_type": "error",
     "traceback": [
      "\u001b[0;31m---------------------------------------------------------------------------\u001b[0m",
      "\u001b[0;31mAnalysisException\u001b[0m                         Traceback (most recent call last)",
      "Cell \u001b[0;32mIn[12], line 64\u001b[0m\n\u001b[1;32m     61\u001b[0m data_dates \u001b[38;5;241m=\u001b[39m [datetime\u001b[38;5;241m.\u001b[39mstrptime(\u001b[38;5;28mstr\u001b[39m(date), \u001b[38;5;124m\"\u001b[39m\u001b[38;5;124m%\u001b[39m\u001b[38;5;124mY-\u001b[39m\u001b[38;5;124m%\u001b[39m\u001b[38;5;124mm-\u001b[39m\u001b[38;5;132;01m%d\u001b[39;00m\u001b[38;5;124m\"\u001b[39m)\u001b[38;5;241m.\u001b[39mreplace(hour\u001b[38;5;241m=\u001b[39mFILE_DATE\u001b[38;5;241m.\u001b[39mhour, minute\u001b[38;5;241m=\u001b[39mFILE_DATE\u001b[38;5;241m.\u001b[39mminute, second\u001b[38;5;241m=\u001b[39mFILE_DATE\u001b[38;5;241m.\u001b[39msecond) \u001b[38;5;28;01mfor\u001b[39;00m date \u001b[38;5;129;01min\u001b[39;00m data_dates]\n\u001b[1;32m     63\u001b[0m \u001b[38;5;28;01mfor\u001b[39;00m date \u001b[38;5;129;01min\u001b[39;00m data_dates:\n\u001b[0;32m---> 64\u001b[0m     \u001b[43mdata_df\u001b[49m\u001b[38;5;241;43m.\u001b[39;49m\u001b[43mfilter\u001b[49m\u001b[43m(\u001b[49m\u001b[43mF\u001b[49m\u001b[38;5;241;43m.\u001b[39;49m\u001b[43mcol\u001b[49m\u001b[43m(\u001b[49m\u001b[38;5;124;43m\"\u001b[39;49m\u001b[38;5;124;43mdate\u001b[39;49m\u001b[38;5;124;43m\"\u001b[39;49m\u001b[43m)\u001b[49m\u001b[43m \u001b[49m\u001b[38;5;241;43m==\u001b[39;49m\u001b[43m \u001b[49m\u001b[43mF\u001b[49m\u001b[38;5;241;43m.\u001b[39;49m\u001b[43mlit\u001b[49m\u001b[43m(\u001b[49m\u001b[43mdate\u001b[49m\u001b[38;5;241;43m.\u001b[39;49m\u001b[43mdate\u001b[49m\u001b[43m(\u001b[49m\u001b[43m)\u001b[49m\u001b[43m)\u001b[49m\u001b[43m)\u001b[49m\u001b[38;5;241;43m.\u001b[39;49m\u001b[43mwrite\u001b[49m\u001b[38;5;241;43m.\u001b[39;49m\u001b[43mparquet\u001b[49m\u001b[43m(\u001b[49m\u001b[43mget_data_path_in_raw_zone\u001b[49m\u001b[43m(\u001b[49m\u001b[43mdate\u001b[49m\u001b[43m,\u001b[49m\u001b[43m \u001b[49m\u001b[43morigin\u001b[49m\u001b[43m)\u001b[49m\u001b[43m,\u001b[49m\u001b[43m \u001b[49m\u001b[43mmode\u001b[49m\u001b[38;5;241;43m=\u001b[39;49m\u001b[38;5;124;43m\"\u001b[39;49m\u001b[38;5;124;43mappend\u001b[39;49m\u001b[38;5;124;43m\"\u001b[39;49m\u001b[43m,\u001b[49m\u001b[43m \u001b[49m\u001b[43mcompression\u001b[49m\u001b[38;5;241;43m=\u001b[39;49m\u001b[38;5;124;43m\"\u001b[39;49m\u001b[38;5;124;43mgzip\u001b[39;49m\u001b[38;5;124;43m\"\u001b[39;49m\u001b[43m)\u001b[49m\n",
      "File \u001b[0;32m/usr/local/spark/python/pyspark/sql/readwriter.py:1721\u001b[0m, in \u001b[0;36mDataFrameWriter.parquet\u001b[0;34m(self, path, mode, partitionBy, compression)\u001b[0m\n\u001b[1;32m   1719\u001b[0m     \u001b[38;5;28mself\u001b[39m\u001b[38;5;241m.\u001b[39mpartitionBy(partitionBy)\n\u001b[1;32m   1720\u001b[0m \u001b[38;5;28mself\u001b[39m\u001b[38;5;241m.\u001b[39m_set_opts(compression\u001b[38;5;241m=\u001b[39mcompression)\n\u001b[0;32m-> 1721\u001b[0m \u001b[38;5;28;43mself\u001b[39;49m\u001b[38;5;241;43m.\u001b[39;49m\u001b[43m_jwrite\u001b[49m\u001b[38;5;241;43m.\u001b[39;49m\u001b[43mparquet\u001b[49m\u001b[43m(\u001b[49m\u001b[43mpath\u001b[49m\u001b[43m)\u001b[49m\n",
      "File \u001b[0;32m/usr/local/spark/python/lib/py4j-0.10.9.7-src.zip/py4j/java_gateway.py:1322\u001b[0m, in \u001b[0;36mJavaMember.__call__\u001b[0;34m(self, *args)\u001b[0m\n\u001b[1;32m   1316\u001b[0m command \u001b[38;5;241m=\u001b[39m proto\u001b[38;5;241m.\u001b[39mCALL_COMMAND_NAME \u001b[38;5;241m+\u001b[39m\\\n\u001b[1;32m   1317\u001b[0m     \u001b[38;5;28mself\u001b[39m\u001b[38;5;241m.\u001b[39mcommand_header \u001b[38;5;241m+\u001b[39m\\\n\u001b[1;32m   1318\u001b[0m     args_command \u001b[38;5;241m+\u001b[39m\\\n\u001b[1;32m   1319\u001b[0m     proto\u001b[38;5;241m.\u001b[39mEND_COMMAND_PART\n\u001b[1;32m   1321\u001b[0m answer \u001b[38;5;241m=\u001b[39m \u001b[38;5;28mself\u001b[39m\u001b[38;5;241m.\u001b[39mgateway_client\u001b[38;5;241m.\u001b[39msend_command(command)\n\u001b[0;32m-> 1322\u001b[0m return_value \u001b[38;5;241m=\u001b[39m \u001b[43mget_return_value\u001b[49m\u001b[43m(\u001b[49m\n\u001b[1;32m   1323\u001b[0m \u001b[43m    \u001b[49m\u001b[43manswer\u001b[49m\u001b[43m,\u001b[49m\u001b[43m \u001b[49m\u001b[38;5;28;43mself\u001b[39;49m\u001b[38;5;241;43m.\u001b[39;49m\u001b[43mgateway_client\u001b[49m\u001b[43m,\u001b[49m\u001b[43m \u001b[49m\u001b[38;5;28;43mself\u001b[39;49m\u001b[38;5;241;43m.\u001b[39;49m\u001b[43mtarget_id\u001b[49m\u001b[43m,\u001b[49m\u001b[43m \u001b[49m\u001b[38;5;28;43mself\u001b[39;49m\u001b[38;5;241;43m.\u001b[39;49m\u001b[43mname\u001b[49m\u001b[43m)\u001b[49m\n\u001b[1;32m   1325\u001b[0m \u001b[38;5;28;01mfor\u001b[39;00m temp_arg \u001b[38;5;129;01min\u001b[39;00m temp_args:\n\u001b[1;32m   1326\u001b[0m     \u001b[38;5;28;01mif\u001b[39;00m \u001b[38;5;28mhasattr\u001b[39m(temp_arg, \u001b[38;5;124m\"\u001b[39m\u001b[38;5;124m_detach\u001b[39m\u001b[38;5;124m\"\u001b[39m):\n",
      "File \u001b[0;32m/usr/local/spark/python/pyspark/errors/exceptions/captured.py:185\u001b[0m, in \u001b[0;36mcapture_sql_exception.<locals>.deco\u001b[0;34m(*a, **kw)\u001b[0m\n\u001b[1;32m    181\u001b[0m converted \u001b[38;5;241m=\u001b[39m convert_exception(e\u001b[38;5;241m.\u001b[39mjava_exception)\n\u001b[1;32m    182\u001b[0m \u001b[38;5;28;01mif\u001b[39;00m \u001b[38;5;129;01mnot\u001b[39;00m \u001b[38;5;28misinstance\u001b[39m(converted, UnknownException):\n\u001b[1;32m    183\u001b[0m     \u001b[38;5;66;03m# Hide where the exception came from that shows a non-Pythonic\u001b[39;00m\n\u001b[1;32m    184\u001b[0m     \u001b[38;5;66;03m# JVM exception message.\u001b[39;00m\n\u001b[0;32m--> 185\u001b[0m     \u001b[38;5;28;01mraise\u001b[39;00m converted \u001b[38;5;28;01mfrom\u001b[39;00m \u001b[38;5;28;01mNone\u001b[39;00m\n\u001b[1;32m    186\u001b[0m \u001b[38;5;28;01melse\u001b[39;00m:\n\u001b[1;32m    187\u001b[0m     \u001b[38;5;28;01mraise\u001b[39;00m\n",
      "\u001b[0;31mAnalysisException\u001b[0m: [COLUMN_ALREADY_EXISTS] The column `empresa`.`razaosocial` already exists. Consider to choose another name or rename the existing column."
     ]
    }
   ],
   "source": [
    "dataframes_list = []\n",
    "for origin, blob_paths in blobs_per_origin.items():\n",
    "    for blob_path in blob_paths:\n",
    "        print(blob_path)\n",
    "        df = spark.read.option(\"multiline\",\"true\").json(blob_path)\n",
    "\n",
    "        base_columns = [\n",
    "        \"Attempts\",\n",
    "        \"Automation\",\n",
    "        \"CrmOrderId\",\n",
    "        \"EndDateProcess\",\n",
    "        \"InitDateProcess\",\n",
    "        \"OrderId\",\n",
    "        \"OrderRef\",\n",
    "        \"ProductType\",\n",
    "        \"ProjectId\",\n",
    "        \"ProjectType\",\n",
    "        \"Retry\",\n",
    "        \"SaleType\",\n",
    "        \"SendCRM\",\n",
    "        \"Status\",\n",
    "      ]\n",
    "\n",
    "        base_df = df.select(base_columns).withColumn(\"ProcessedAt\", F.lit(CURRENT_DATE))\n",
    "\n",
    "      # funnel_df = df.select(\"Statuses\", \"OrderId\")\\\n",
    "      #   .withColumn(\"Statuses\", F.explode(F.col(\"Statuses\")))\\\n",
    "      #   .select(\n",
    "      #     \"OrderId\",\n",
    "      #     F.col(\"Statuses.CreatedIn\").alias(\"CreatedIn\"),\n",
    "      #     F.col(\"Statuses.Name\").alias(\"Step\")\n",
    "      #   ).join(base_df, \"OrderId\")\\\n",
    "\n",
    "      # funnel_df =  funnel_df.withColumn(\"date\", F.to_date(F.col(\"InitDateProcess\")))\n",
    "\n",
    "        FILE_DATE = datetime.today()\n",
    "      # funnel_dates = funnel_df.select(\"date\").distinct().collect()\n",
    "      # funnel_dates = [row.date for row in funnel_dates]\n",
    "      # funnel_dates = [datetime.strptime(str(date), \"%Y-%m-%d\").replace(hour=FILE_DATE.hour, minute=FILE_DATE.minute, second=FILE_DATE.second) for date in funnel_dates]\n",
    "\n",
    "      # for date in funnel_dates:\n",
    "      #   funnel_df.filter(F.col(\"date\") == F.lit(date.date())).write.parquet(get_funnel_path_in_raw_zone(date, origin), mode=\"append\", compression=\"gzip\")\n",
    "\n",
    "\n",
    "        data_df = df.select(\"Datas\", \"OrderId\")\\\n",
    "        .withColumn(\"Datas\", F.explode(F.col(\"Datas\")))\\\n",
    "        .select(\n",
    "          \"OrderId\",\n",
    "          F.col(\"Datas.Name\").alias(\"Name\"),\n",
    "          F.col(\"Datas.Value\").alias(\"Value\")\n",
    "        )\\\n",
    "        .groupBy(\"OrderId\")\\\n",
    "        .pivot(\"Name\")\\\n",
    "        .agg({\"Value\": \"first\"})\\\n",
    "        .join(base_df, \"OrderId\")\n",
    "\n",
    "        data_df =  data_df.withColumn(\"date\", F.to_date(F.col(\"InitDateProcess\")))\n",
    "\n",
    "        data_dates = data_df.select(\"date\").distinct().collect()\n",
    "        data_dates = [row.date for row in data_dates]\n",
    "        data_dates = [datetime.strptime(str(date), \"%Y-%m-%d\").replace(hour=FILE_DATE.hour, minute=FILE_DATE.minute, second=FILE_DATE.second) for date in data_dates]\n",
    "\n",
    "        for date in data_dates:\n",
    "            data_df.filter(F.col(\"date\") == F.lit(date.date())).write.parquet(get_data_path_in_raw_zone(date, origin), mode=\"append\", compression=\"gzip\")"
   ]
  },
  {
   "cell_type": "code",
   "execution_count": null,
   "metadata": {},
   "outputs": [],
   "source": [
    "# for origin in ORIGINS:\n",
    "#   bucket.delete_blobs([blob_path.replace(f\"gs://{BUCKET_NAME}/\", \"\") for blob_path in blobs_per_origin])"
   ]
  },
  {
   "cell_type": "code",
   "execution_count": null,
   "metadata": {},
   "outputs": [],
   "source": []
  }
 ],
 "metadata": {
  "kernelspec": {
   "display_name": "Python 3 (ipykernel)",
   "language": "python",
   "name": "python3"
  },
  "language_info": {
   "codemirror_mode": {
    "name": "ipython",
    "version": 3
   },
   "file_extension": ".py",
   "mimetype": "text/x-python",
   "name": "python",
   "nbconvert_exporter": "python",
   "pygments_lexer": "ipython3",
   "version": "3.11.6"
  },
  "vscode": {
   "interpreter": {
    "hash": "8a94588eda9d64d9e9a351ab8144e55b1fabf5113b54e67dd26a8c27df0381b3"
   }
  }
 },
 "nbformat": 4,
 "nbformat_minor": 4
}
