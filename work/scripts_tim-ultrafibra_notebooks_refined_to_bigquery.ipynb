{
 "cells": [
  {
   "cell_type": "code",
   "execution_count": 1,
   "id": "fcca642e",
   "metadata": {
    "execution": {
     "iopub.execute_input": "2024-10-18T11:17:10.894250Z",
     "iopub.status.busy": "2024-10-18T11:17:10.893573Z",
     "iopub.status.idle": "2024-10-18T11:17:12.052223Z",
     "shell.execute_reply": "2024-10-18T11:17:12.051622Z"
    },
    "papermill": {
     "duration": 1.163952,
     "end_time": "2024-10-18T11:17:12.053895",
     "exception": false,
     "start_time": "2024-10-18T11:17:10.889943",
     "status": "completed"
    },
    "tags": []
   },
   "outputs": [],
   "source": [
    "from datetime import datetime, timedelta\n",
    "from pyspark.sql import SparkSession, DataFrame\n",
    "from pyspark.sql.types import *\n",
    "from pyspark.sql import functions as F\n",
    "from google.cloud import storage, bigquery\n",
    "from collections import namedtuple\n",
    "from typing import List"
   ]
  },
  {
   "cell_type": "code",
   "execution_count": 2,
   "id": "b130792a",
   "metadata": {
    "execution": {
     "iopub.execute_input": "2024-10-18T11:17:12.059003Z",
     "iopub.status.busy": "2024-10-18T11:17:12.058402Z",
     "iopub.status.idle": "2024-10-18T11:17:12.061706Z",
     "shell.execute_reply": "2024-10-18T11:17:12.061050Z"
    },
    "papermill": {
     "duration": 0.006973,
     "end_time": "2024-10-18T11:17:12.062888",
     "exception": false,
     "start_time": "2024-10-18T11:17:12.055915",
     "status": "completed"
    },
    "tags": [
     "parameters"
    ]
   },
   "outputs": [],
   "source": [
    "CURRENT_DATE_ARG = None"
   ]
  },
  {
   "cell_type": "code",
   "execution_count": 3,
   "id": "552a7703",
   "metadata": {
    "execution": {
     "iopub.execute_input": "2024-10-18T11:17:12.067244Z",
     "iopub.status.busy": "2024-10-18T11:17:12.066716Z",
     "iopub.status.idle": "2024-10-18T11:17:12.070097Z",
     "shell.execute_reply": "2024-10-18T11:17:12.069558Z"
    },
    "papermill": {
     "duration": 0.006881,
     "end_time": "2024-10-18T11:17:12.071316",
     "exception": false,
     "start_time": "2024-10-18T11:17:12.064435",
     "status": "completed"
    },
    "tags": []
   },
   "outputs": [],
   "source": [
    "BUCKET_NAME = \"tim-ultrafibra-gcs-sp\"\n",
    "PARENT_PROJECT = \"cloud-macro-tim\"\n",
    "CURRENT_DATE = datetime.strptime(CURRENT_DATE_ARG, '%Y-%m-%dT%H:%M:%S') if CURRENT_DATE_ARG is not None else datetime.today() \n",
    "ORIGINS = [\"bot_tim\"]"
   ]
  },
  {
   "cell_type": "code",
   "execution_count": 4,
   "id": "413ebff3",
   "metadata": {
    "execution": {
     "iopub.execute_input": "2024-10-18T11:17:12.075723Z",
     "iopub.status.busy": "2024-10-18T11:17:12.075232Z",
     "iopub.status.idle": "2024-10-18T11:17:12.078185Z",
     "shell.execute_reply": "2024-10-18T11:17:12.077695Z"
    },
    "papermill": {
     "duration": 0.006484,
     "end_time": "2024-10-18T11:17:12.079390",
     "exception": false,
     "start_time": "2024-10-18T11:17:12.072906",
     "status": "completed"
    },
    "tags": []
   },
   "outputs": [],
   "source": [
    "BRAZILIAN_TIMEDIFF = timedelta(hours=3)\n",
    "CURRENT_DATE = CURRENT_DATE - BRAZILIAN_TIMEDIFF"
   ]
  },
  {
   "cell_type": "code",
   "execution_count": 5,
   "id": "a8306a15",
   "metadata": {
    "execution": {
     "iopub.execute_input": "2024-10-18T11:17:12.083235Z",
     "iopub.status.busy": "2024-10-18T11:17:12.083039Z",
     "iopub.status.idle": "2024-10-18T11:17:12.086428Z",
     "shell.execute_reply": "2024-10-18T11:17:12.085919Z"
    },
    "papermill": {
     "duration": 0.006812,
     "end_time": "2024-10-18T11:17:12.087691",
     "exception": false,
     "start_time": "2024-10-18T11:17:12.080879",
     "status": "completed"
    },
    "tags": []
   },
   "outputs": [],
   "source": [
    "def is_midnight_hour(hour):\n",
    "  return hour >= 0 and hour <= 4\n",
    "\n",
    "if is_midnight_hour(CURRENT_DATE.hour):\n",
    "  CURRENT_DATE = CURRENT_DATE - timedelta(days=1)\n",
    "  CURRENT_DATE = CURRENT_DATE.replace(hour=23, minute=59, second=59)"
   ]
  },
  {
   "cell_type": "code",
   "execution_count": 6,
   "id": "ab9af4a4",
   "metadata": {
    "execution": {
     "iopub.execute_input": "2024-10-18T11:17:12.092029Z",
     "iopub.status.busy": "2024-10-18T11:17:12.091565Z",
     "iopub.status.idle": "2024-10-18T11:17:19.551012Z",
     "shell.execute_reply": "2024-10-18T11:17:19.550170Z"
    },
    "papermill": {
     "duration": 7.463432,
     "end_time": "2024-10-18T11:17:19.552674",
     "exception": false,
     "start_time": "2024-10-18T11:17:12.089242",
     "status": "completed"
    },
    "tags": []
   },
   "outputs": [],
   "source": [
    "spark = SparkSession.builder.appName(\"tim_ultrafibra_curated_to_refined\")\\\n",
    "  .config('parentProject', PARENT_PROJECT)\\\n",
    "  .config(\"spark.sql.caseSensitive\", \"True\")\\\n",
    "  .config('spark.sql.session.timeZone', 'America/Sao_Paulo')\\\n",
    "  .config(\"spark.jars\", \"gs://spark-lib/bigquery/spark-3.3-bigquery-0.34.0.jar\")\\\n",
    "  .getOrCreate()\n",
    "\n",
    "gcsClient = storage.Client()\n",
    "bqClient = bigquery.Client()"
   ]
  },
  {
   "cell_type": "code",
   "execution_count": 7,
   "id": "bee16cdb",
   "metadata": {
    "execution": {
     "iopub.execute_input": "2024-10-18T11:17:19.558125Z",
     "iopub.status.busy": "2024-10-18T11:17:19.557467Z",
     "iopub.status.idle": "2024-10-18T11:17:19.562824Z",
     "shell.execute_reply": "2024-10-18T11:17:19.562033Z"
    },
    "papermill": {
     "duration": 0.010115,
     "end_time": "2024-10-18T11:17:19.564605",
     "exception": false,
     "start_time": "2024-10-18T11:17:19.554490",
     "status": "completed"
    },
    "tags": []
   },
   "outputs": [],
   "source": [
    "def get_path_in_refined_zone(datetime: datetime, origin: str, table_name: str):\n",
    "  return f\"gs://{BUCKET_NAME}/refined-zone/{origin}/{datetime.strftime('%Y%m')}/{table_name}.parquet\"\n",
    "\n",
    "def get_prefix_in_refined(datetime: datetime, origin: str):\n",
    "  return f\"refined-zone/{origin}/{datetime.strftime('%Y%m')}\"\n",
    "\n",
    "def get_tmp_table_name(table_name: str):\n",
    "  return f'tim_ultrafibra.{table_name}_tmp'\n",
    "\n",
    "def get_full_table_name(table_name: str):\n",
    "  return f'tim_ultrafibra.{table_name}'"
   ]
  },
  {
   "cell_type": "code",
   "execution_count": 8,
   "id": "e7e43d96",
   "metadata": {
    "execution": {
     "iopub.execute_input": "2024-10-18T11:17:19.571678Z",
     "iopub.status.busy": "2024-10-18T11:17:19.571391Z",
     "iopub.status.idle": "2024-10-18T11:17:19.618505Z",
     "shell.execute_reply": "2024-10-18T11:17:19.617824Z"
    },
    "papermill": {
     "duration": 0.052599,
     "end_time": "2024-10-18T11:17:19.620244",
     "exception": false,
     "start_time": "2024-10-18T11:17:19.567645",
     "status": "completed"
    },
    "tags": []
   },
   "outputs": [],
   "source": [
    "blobs_per_origin = {}\n",
    "\n",
    "for origin_name in ORIGINS:\n",
    "  blobs = gcsClient.list_blobs(BUCKET_NAME, prefix=get_prefix_in_refined(CURRENT_DATE, origin_name))\n",
    "  blobs_per_origin[origin_name] = [f\"gs://{BUCKET_NAME}/{blob.name}\" for blob in blobs if blob.name.endswith(\".parquet/\")]"
   ]
  },
  {
   "cell_type": "code",
   "execution_count": 9,
   "id": "99bfd995",
   "metadata": {
    "execution": {
     "iopub.execute_input": "2024-10-18T11:17:19.625903Z",
     "iopub.status.busy": "2024-10-18T11:17:19.625071Z",
     "iopub.status.idle": "2024-10-18T11:17:19.629205Z",
     "shell.execute_reply": "2024-10-18T11:17:19.628485Z"
    },
    "papermill": {
     "duration": 0.008845,
     "end_time": "2024-10-18T11:17:19.630936",
     "exception": false,
     "start_time": "2024-10-18T11:17:19.622091",
     "status": "completed"
    },
    "tags": []
   },
   "outputs": [],
   "source": [
    "JoinOnField = namedtuple('JoinOnField', ['field_name', 'isNullable'])"
   ]
  },
  {
   "cell_type": "code",
   "execution_count": 10,
   "id": "29c259e8",
   "metadata": {
    "execution": {
     "iopub.execute_input": "2024-10-18T11:17:19.638958Z",
     "iopub.status.busy": "2024-10-18T11:17:19.638466Z",
     "iopub.status.idle": "2024-10-18T11:17:19.645813Z",
     "shell.execute_reply": "2024-10-18T11:17:19.645246Z"
    },
    "papermill": {
     "duration": 0.012797,
     "end_time": "2024-10-18T11:17:19.647094",
     "exception": false,
     "start_time": "2024-10-18T11:17:19.634297",
     "status": "completed"
    },
    "tags": []
   },
   "outputs": [],
   "source": [
    "def save_on_bigquery(df: DataFrame, table_name: str, fields: list, joinOn: List[JoinOnField]):\n",
    "  tmp_table_name = get_tmp_table_name(table_name)\n",
    "  full_table_name = get_full_table_name(table_name)\n",
    "  table = None\n",
    "\n",
    "  try:\n",
    "    table = bqClient.get_table(full_table_name)\n",
    "  except:\n",
    "    table = None\n",
    "\n",
    "  if table is None:\n",
    "    df.write.format('bigquery')\\\n",
    "      .option(\"temporaryGcsBucket\", BUCKET_NAME)\\\n",
    "      .option(\"table\", full_table_name)\\\n",
    "      .option(\"parentProject\", PARENT_PROJECT)\\\n",
    "      .mode(\"overwrite\")\\\n",
    "      .save()\n",
    "  else:\n",
    "    bqClient.query(f\"DROP TABLE IF EXISTS {tmp_table_name}\")\n",
    "\n",
    "    df.write.format(\"bigquery\")\\\n",
    "      .option(\"temporaryGcsBucket\", BUCKET_NAME)\\\n",
    "      .option(\"table\", tmp_table_name)\\\n",
    "      .option(\"parentProject\", PARENT_PROJECT)\\\n",
    "      .mode(\"append\")\\\n",
    "      .save()\n",
    "\n",
    "    select = \", \".join(fields)\n",
    "    joinCondition = \" AND \".join([\n",
    "      f\"(COALESCE(target.{field.field_name}, \\\"\\\") = COALESCE(origin.{field.field_name}, \\\"\\\"))\" if field.isNullable \n",
    "      else f\"target.{field.field_name} = origin.{field.field_name}\" \n",
    "      for field in joinOn\n",
    "    ])\n",
    "    update = \", \".join([f\"target.{field} = origin.{field}\" for field in fields])\n",
    "    insertFields = \", \".join(fields)\n",
    "    insertValues = \", \".join([f\"origin.{field}\" for field in fields])\n",
    "\n",
    "    query = f\"\"\"\n",
    "        MERGE INTO {full_table_name} AS target\n",
    "        USING (SELECT {select} FROM {tmp_table_name}) AS origin\n",
    "        ON {joinCondition}\n",
    "        WHEN MATCHED THEN \n",
    "          UPDATE SET {update}\n",
    "        WHEN NOT MATCHED THEN\n",
    "          INSERT ({insertFields})\n",
    "          VALUES ({insertValues})\n",
    "      \"\"\"\n",
    "    bqClient.query(query).result()\n",
    "    print(\"Saved on BigQuery: \", table_name)\n",
    "    bqClient.query(f\"DROP TABLE {tmp_table_name}\")\n",
    "\n",
    "pass"
   ]
  },
  {
   "cell_type": "code",
   "execution_count": 11,
   "id": "0c5cfe85",
   "metadata": {
    "execution": {
     "iopub.execute_input": "2024-10-18T11:17:19.651940Z",
     "iopub.status.busy": "2024-10-18T11:17:19.651557Z",
     "iopub.status.idle": "2024-10-18T11:18:06.850464Z",
     "shell.execute_reply": "2024-10-18T11:18:06.849786Z"
    },
    "papermill": {
     "duration": 47.202835,
     "end_time": "2024-10-18T11:18:06.851760",
     "exception": false,
     "start_time": "2024-10-18T11:17:19.648925",
     "status": "completed"
    },
    "tags": []
   },
   "outputs": [
    {
     "name": "stdout",
     "output_type": "stream",
     "text": [
      "Saved on BigQuery:  leads\n"
     ]
    },
    {
     "name": "stdout",
     "output_type": "stream",
     "text": [
      "Saved on BigQuery:  history_leads\n"
     ]
    },
    {
     "name": "stdout",
     "output_type": "stream",
     "text": [
      "Saved on BigQuery:  orders\n"
     ]
    }
   ],
   "source": [
    "for origin in ORIGINS:\n",
    "  df_leads = spark.read.parquet(get_path_in_refined_zone(CURRENT_DATE, origin, \"leads\"))\n",
    "  df_leads = df_leads.withColumn(\"cpf\", F.when(F.trim(\"cpf\") == \"\", F.lit(None).cast(StringType())).otherwise(F.col(\"cpf\")))\n",
    "  save_on_bigquery(df_leads.dropDuplicates([\"identity\", \"cpf\"]), \"leads\", list(df_leads.columns), [\n",
    "    JoinOnField(\"identity\", False),\n",
    "    JoinOnField(\"cpf\", True),\n",
    "  ])\n",
    "\n",
    "  df_history_leads = spark.read.parquet(get_path_in_refined_zone(CURRENT_DATE, origin, \"history_leads\"))\n",
    "  save_on_bigquery(\n",
    "    df_history_leads.dropDuplicates([\"identity\", \"last_message_date\"]), \n",
    "    \"history_leads\", \n",
    "    df_history_leads.columns, \n",
    "    [JoinOnField(\"identity\", False), JoinOnField(\"last_message_date\", False)]\n",
    "  )\n",
    "\n",
    "  df_orders = spark.read.parquet(get_path_in_refined_zone(CURRENT_DATE, origin, \"orders\"))\n",
    "  save_on_bigquery(\n",
    "    df_orders.dropDuplicates([\"identity\", \"last_message_date\"]), \n",
    "    \"orders\", \n",
    "    df_orders.columns, \n",
    "    [JoinOnField(\"identity\", False),JoinOnField(\"last_message_date\", False)]\n",
    "  )"
   ]
  }
 ],
 "metadata": {
  "kernelspec": {
   "display_name": "Python 3.8.10 64-bit",
   "language": "python",
   "name": "python3"
  },
  "language_info": {
   "codemirror_mode": {
    "name": "ipython",
    "version": 3
   },
   "file_extension": ".py",
   "mimetype": "text/x-python",
   "name": "python",
   "nbconvert_exporter": "python",
   "pygments_lexer": "ipython3",
   "version": "3.11.8"
  },
  "papermill": {
   "default_parameters": {},
   "duration": 57.46412,
   "end_time": "2024-10-18T11:18:07.372945",
   "environment_variables": {},
   "exception": null,
   "input_path": "input_refined.ipynb",
   "output_path": "output_refined.ipynb",
   "parameters": {},
   "start_time": "2024-10-18T11:17:09.908825",
   "version": "2.4.0"
  },
  "vscode": {
   "interpreter": {
    "hash": "31f2aee4e71d21fbe5cf8b01ff0e069b9275f58929596ceb00d14d90e3e16cd6"
   }
  }
 },
 "nbformat": 4,
 "nbformat_minor": 5
}
