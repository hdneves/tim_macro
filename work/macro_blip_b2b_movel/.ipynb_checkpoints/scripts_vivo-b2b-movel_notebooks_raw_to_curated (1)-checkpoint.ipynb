{
 "cells": [
  {
   "cell_type": "code",
   "execution_count": 1,
   "metadata": {},
   "outputs": [],
   "source": [
    "from pyspark.sql.types import *\n",
    "from datetime import datetime, timedelta\n",
    "from pyspark.sql import functions as F\n",
    "from pyspark.sql import SparkSession, DataFrame\n",
    "from google.cloud import storage\n",
    "from functools import reduce\n",
    "import re"
   ]
  },
  {
   "cell_type": "code",
   "execution_count": 2,
   "metadata": {
    "tags": [
     "parameters"
    ]
   },
   "outputs": [],
   "source": [
    "CURRENT_DATE_ARG = \"2024-09-30T23:59:59\""
   ]
  },
  {
   "cell_type": "code",
   "execution_count": 3,
   "metadata": {},
   "outputs": [],
   "source": [
    "BUCKET_NAME = \"vivo-api-manager-gcs-sp\"\n",
    "ORIGINS = [\"vivo-b2b-movel\", \"vivo-b2b-cross\"]\n",
    "CURRENT_DATE = datetime.strptime(CURRENT_DATE_ARG, '%Y-%m-%dT%H:%M:%S') if CURRENT_DATE_ARG is not None else datetime.today()"
   ]
  },
  {
   "cell_type": "code",
   "execution_count": 4,
   "metadata": {},
   "outputs": [
    {
     "name": "stdout",
     "output_type": "stream",
     "text": [
      "2024-09-30 20:59:59\n"
     ]
    }
   ],
   "source": [
    "BRAZILIAN_TIMEDIFF = timedelta(hours=3)\n",
    "CURRENT_DATE = CURRENT_DATE - BRAZILIAN_TIMEDIFF\n",
    "print(CURRENT_DATE)"
   ]
  },
  {
   "cell_type": "code",
   "execution_count": 5,
   "metadata": {},
   "outputs": [],
   "source": [
    "def is_midnight_hour(hour):\n",
    "  return hour >= 0 and hour <= 4\n",
    "\n",
    "if is_midnight_hour(CURRENT_DATE.hour):\n",
    "  CURRENT_DATE = CURRENT_DATE - timedelta(days=1)\n",
    "  CURRENT_DATE = CURRENT_DATE.replace(hour=23, minute=59, second=59)\n"
   ]
  },
  {
   "cell_type": "code",
   "execution_count": 6,
   "metadata": {},
   "outputs": [
    {
     "name": "stdout",
     "output_type": "stream",
     "text": [
      "<google.cloud.storage.client.Client object at 0x7f18e7acff50>\n"
     ]
    }
   ],
   "source": [
    "# spark = SparkSession.builder.appName(\"raw_to_curated\")\\\n",
    "#   .config(\"spark.sql.caseSensitive\", \"True\")\\\n",
    "#   .config(\"spark.sql.session.timeZone\", \"America/Sao_Paulo\")\\\n",
    "#   .getOrCreate()\n",
    "\n",
    "import os\n",
    "os.environ[\"GOOGLE_APPLICATION_CREDENTIALS\"] = \"/home/jovyan/work/macro_blip_b2b_movel/cloud-macro-blip-cb70a4da44e6.json\"\n",
    "\n",
    "# Criar a sessão Spark\n",
    "spark = SparkSession.builder \\\n",
    "    .appName(\"Ler Parquet do GCS\") \\\n",
    "    .config(\"spark.sql.caseSensitive\", \"True\")\\\n",
    "    .config(\"spark.sql.session.timeZone\", \"America/Sao_Paulo\")\\\n",
    "    .config(\"spark.network.timeout\", \"600s\")\\\n",
    "    .config(\"spark.jars\", \n",
    "            \"/usr/local/spark/jars/gcs-connector-hadoop3-latest.jar,\"\n",
    "            \"/usr/local/spark/jars/hadoop-common-3.3.6.jar,\"\n",
    "            \"/usr/local/spark/jars/hadoop-client-api-3.3.4.jar,\"\n",
    "            \"/usr/local/spark/jars/hadoop-client-runtime-3.3.4.jar\") \\\n",
    "    .config(\"spark.hadoop.google.cloud.auth.service.account.enable\", \"true\") \\\n",
    "    .config(\"spark.hadoop.google.cloud.auth.service.account.json.keyfile\", os.environ[\"GOOGLE_APPLICATION_CREDENTIALS\"]) \\\n",
    "    .config(\"fs.gs.impl\", \"com.google.cloud.hadoop.fs.gcs.GoogleHadoopFileSystem\") \\\n",
    "    .config(\"fs.AbstractFileSystem.gs.impl\", \"com.google.cloud.hadoop.fs.gcs.GoogleHadoopFS\") \\\n",
    "    .getOrCreate()\n",
    "\n",
    "gcsClient = storage.Client()\n",
    "print(gcsClient)"
   ]
  },
  {
   "cell_type": "code",
   "execution_count": 7,
   "metadata": {},
   "outputs": [],
   "source": [
    "def get_data_path_in_curated_zone(datetime: datetime, origin: str):\n",
    "    return f\"gs://{BUCKET_NAME}/{origin}/curated-zone/data/{datetime.strftime('%Y%m')}/{datetime.strftime('%Y%m%d')}.parquet\"\n",
    "\n",
    "def get_data_prefix_in_raw_zone(datetime: datetime, origin: str):\n",
    "    return f\"{origin}/raw-zone/data/{datetime.strftime('%Y%m')}/{datetime.strftime('%Y%m%d')}\""
   ]
  },
  {
   "cell_type": "code",
   "execution_count": 8,
   "metadata": {},
   "outputs": [],
   "source": [
    "def to_snake_case(input_string):\n",
    "    input_string = input_string.replace(\" \", \"_\").replace(\"-\", \"_\")\n",
    "    snake_case_string = re.sub(r'([a-z0-9])([A-Z])', r'\\1_\\2', input_string)\n",
    "    return snake_case_string.lower()\n",
    "\n",
    "def sanitize_column_name(text):\n",
    "    text = to_snake_case(text).replace(\"/\", \"_\")\n",
    "    text = re.sub(r\"_\\d+(\\.\\d?)*_\", \"_\", text, count=1)\n",
    "    return text\n",
    "\n",
    "def rename_columns(df: DataFrame) -> DataFrame:\n",
    "    for col_name in df.columns:\n",
    "        df = df.withColumnRenamed(col_name, sanitize_column_name(col_name))\n",
    "    return df"
   ]
  },
  {
   "cell_type": "code",
   "execution_count": 9,
   "metadata": {},
   "outputs": [],
   "source": [
    "def deduplicate_columns(df: DataFrame) -> DataFrame:\n",
    "    from collections import defaultdict\n",
    "\n",
    "    new_column_names = [f\"{col_name}_{i}\" for i, col_name in enumerate(df.columns)]\n",
    "    df = df.toDF(*new_column_names)\n",
    "\n",
    "    column_groups = defaultdict(list)\n",
    "    for new_col_name, old_col_name in zip(new_column_names, df.columns):\n",
    "        base_name = old_col_name.rsplit('_', 1)[0]\n",
    "        column_groups[base_name].append(new_col_name)\n",
    "\n",
    "    for col_name, group in column_groups.items():\n",
    "        if len(group) > 1:\n",
    "            df = df.withColumn(f\"{col_name}\", F.coalesce(*[F.col(f\"`{c}`\") for c in group]))\n",
    "        else:\n",
    "            df = df.withColumnRenamed(group[0], f\"{col_name}\")\n",
    "\n",
    "    unique_columns = [f\"`{col}`\" for col in column_groups.keys()]\n",
    "    df = df.select(*unique_columns)\n",
    "    return df"
   ]
  },
  {
   "cell_type": "code",
   "execution_count": 10,
   "metadata": {},
   "outputs": [],
   "source": [
    "def convert_empty_to_null(df: DataFrame, columns: list):\n",
    "    for column_name in columns:\n",
    "        column_type = df.schema[column_name].dataType\n",
    "        if column_type == StringType():\n",
    "            df = df.withColumn(column_name, F.when(F.col(column_name) == \"\", F.lit(None).cast(column_type)).otherwise(F.col(column_name)))\n",
    "        elif column_type == BooleanType():\n",
    "            df = df.withColumn(column_name, F.when(F.col(column_name).isNull(), F.lit(None).cast(BooleanType())).otherwise(F.col(column_name)))\n",
    "    return df\n",
    "\n",
    "def reduce_dataframe(dfs: list):\n",
    "    if len(dfs) == 0:\n",
    "        return spark.createDataFrame([], StringType())\n",
    "    elif len(dfs) == 1:\n",
    "        return dfs[0]\n",
    "    else:\n",
    "        return reduce(lambda df1, df2: df1.unionByName(df2, allowMissingColumns=True), dfs)\n"
   ]
  },
  {
   "cell_type": "code",
   "execution_count": 11,
   "metadata": {
    "collapsed": true,
    "jupyter": {
     "outputs_hidden": true
    },
    "scrolled": true
   },
   "outputs": [
    {
     "name": "stdout",
     "output_type": "stream",
     "text": [
      "[datetime.datetime(2024, 9, 30, 20, 59, 59), datetime.datetime(2024, 9, 29, 20, 59, 59), datetime.datetime(2024, 9, 28, 20, 59, 59)]\n",
      "2024-09-30 20:59:59\n",
      "vivo-b2b-movel\n",
      "['gs://vivo-api-manager-gcs-sp/vivo-b2b-movel/raw-zone/data/202409/20240930-002857.parquet/', 'gs://vivo-api-manager-gcs-sp/vivo-b2b-movel/raw-zone/data/202409/20240930-002929.parquet/', 'gs://vivo-api-manager-gcs-sp/vivo-b2b-movel/raw-zone/data/202409/20240930-002942.parquet/', 'gs://vivo-api-manager-gcs-sp/vivo-b2b-movel/raw-zone/data/202409/20240930-150702.parquet/', 'gs://vivo-api-manager-gcs-sp/vivo-b2b-movel/raw-zone/data/202409/20240930-150746.parquet/', 'gs://vivo-api-manager-gcs-sp/vivo-b2b-movel/raw-zone/data/202409/20240930-150803.parquet/', 'gs://vivo-api-manager-gcs-sp/vivo-b2b-movel/raw-zone/data/202409/20240930-152818.parquet/', 'gs://vivo-api-manager-gcs-sp/vivo-b2b-movel/raw-zone/data/202409/20240930-152901.parquet/', 'gs://vivo-api-manager-gcs-sp/vivo-b2b-movel/raw-zone/data/202409/20240930-152917.parquet/', 'gs://vivo-api-manager-gcs-sp/vivo-b2b-movel/raw-zone/data/202409/20240930-184712.parquet/', 'gs://vivo-api-manager-gcs-sp/vivo-b2b-movel/raw-zone/data/202409/20240930-184754.parquet/', 'gs://vivo-api-manager-gcs-sp/vivo-b2b-movel/raw-zone/data/202409/20240930-184812.parquet/', 'gs://vivo-api-manager-gcs-sp/vivo-b2b-movel/raw-zone/data/202409/20240930-192248.parquet/', 'gs://vivo-api-manager-gcs-sp/vivo-b2b-movel/raw-zone/data/202409/20240930-192331.parquet/', 'gs://vivo-api-manager-gcs-sp/vivo-b2b-movel/raw-zone/data/202409/20240930-192349.parquet/']\n",
      "vivo-b2b-cross\n",
      "['gs://vivo-api-manager-gcs-sp/vivo-b2b-movel/raw-zone/data/202409/20240930-002857.parquet/', 'gs://vivo-api-manager-gcs-sp/vivo-b2b-movel/raw-zone/data/202409/20240930-002929.parquet/', 'gs://vivo-api-manager-gcs-sp/vivo-b2b-movel/raw-zone/data/202409/20240930-002942.parquet/', 'gs://vivo-api-manager-gcs-sp/vivo-b2b-movel/raw-zone/data/202409/20240930-150702.parquet/', 'gs://vivo-api-manager-gcs-sp/vivo-b2b-movel/raw-zone/data/202409/20240930-150746.parquet/', 'gs://vivo-api-manager-gcs-sp/vivo-b2b-movel/raw-zone/data/202409/20240930-150803.parquet/', 'gs://vivo-api-manager-gcs-sp/vivo-b2b-movel/raw-zone/data/202409/20240930-152818.parquet/', 'gs://vivo-api-manager-gcs-sp/vivo-b2b-movel/raw-zone/data/202409/20240930-152901.parquet/', 'gs://vivo-api-manager-gcs-sp/vivo-b2b-movel/raw-zone/data/202409/20240930-152917.parquet/', 'gs://vivo-api-manager-gcs-sp/vivo-b2b-movel/raw-zone/data/202409/20240930-184712.parquet/', 'gs://vivo-api-manager-gcs-sp/vivo-b2b-movel/raw-zone/data/202409/20240930-184754.parquet/', 'gs://vivo-api-manager-gcs-sp/vivo-b2b-movel/raw-zone/data/202409/20240930-184812.parquet/', 'gs://vivo-api-manager-gcs-sp/vivo-b2b-movel/raw-zone/data/202409/20240930-192248.parquet/', 'gs://vivo-api-manager-gcs-sp/vivo-b2b-movel/raw-zone/data/202409/20240930-192331.parquet/', 'gs://vivo-api-manager-gcs-sp/vivo-b2b-movel/raw-zone/data/202409/20240930-192349.parquet/', 'gs://vivo-api-manager-gcs-sp/vivo-b2b-cross/raw-zone/data/202409/20240930-002952.parquet/', 'gs://vivo-api-manager-gcs-sp/vivo-b2b-cross/raw-zone/data/202409/20240930-003000.parquet/', 'gs://vivo-api-manager-gcs-sp/vivo-b2b-cross/raw-zone/data/202409/20240930-003008.parquet/', 'gs://vivo-api-manager-gcs-sp/vivo-b2b-cross/raw-zone/data/202409/20240930-150817.parquet/', 'gs://vivo-api-manager-gcs-sp/vivo-b2b-cross/raw-zone/data/202409/20240930-150830.parquet/', 'gs://vivo-api-manager-gcs-sp/vivo-b2b-cross/raw-zone/data/202409/20240930-150841.parquet/', 'gs://vivo-api-manager-gcs-sp/vivo-b2b-cross/raw-zone/data/202409/20240930-152932.parquet/', 'gs://vivo-api-manager-gcs-sp/vivo-b2b-cross/raw-zone/data/202409/20240930-152942.parquet/', 'gs://vivo-api-manager-gcs-sp/vivo-b2b-cross/raw-zone/data/202409/20240930-152952.parquet/', 'gs://vivo-api-manager-gcs-sp/vivo-b2b-cross/raw-zone/data/202409/20240930-184826.parquet/', 'gs://vivo-api-manager-gcs-sp/vivo-b2b-cross/raw-zone/data/202409/20240930-184840.parquet/', 'gs://vivo-api-manager-gcs-sp/vivo-b2b-cross/raw-zone/data/202409/20240930-184851.parquet/', 'gs://vivo-api-manager-gcs-sp/vivo-b2b-cross/raw-zone/data/202409/20240930-192403.parquet/', 'gs://vivo-api-manager-gcs-sp/vivo-b2b-cross/raw-zone/data/202409/20240930-192416.parquet/', 'gs://vivo-api-manager-gcs-sp/vivo-b2b-cross/raw-zone/data/202409/20240930-192428.parquet/']\n",
      "2024-09-29 20:59:59\n",
      "vivo-b2b-movel\n",
      "['gs://vivo-api-manager-gcs-sp/vivo-b2b-movel/raw-zone/data/202409/20240929-002857.parquet/', 'gs://vivo-api-manager-gcs-sp/vivo-b2b-movel/raw-zone/data/202409/20240929-002929.parquet/', 'gs://vivo-api-manager-gcs-sp/vivo-b2b-movel/raw-zone/data/202409/20240929-002942.parquet/', 'gs://vivo-api-manager-gcs-sp/vivo-b2b-movel/raw-zone/data/202409/20240929-150702.parquet/', 'gs://vivo-api-manager-gcs-sp/vivo-b2b-movel/raw-zone/data/202409/20240929-150746.parquet/', 'gs://vivo-api-manager-gcs-sp/vivo-b2b-movel/raw-zone/data/202409/20240929-150803.parquet/', 'gs://vivo-api-manager-gcs-sp/vivo-b2b-movel/raw-zone/data/202409/20240929-152818.parquet/', 'gs://vivo-api-manager-gcs-sp/vivo-b2b-movel/raw-zone/data/202409/20240929-152901.parquet/', 'gs://vivo-api-manager-gcs-sp/vivo-b2b-movel/raw-zone/data/202409/20240929-152917.parquet/', 'gs://vivo-api-manager-gcs-sp/vivo-b2b-movel/raw-zone/data/202409/20240929-182412.parquet/', 'gs://vivo-api-manager-gcs-sp/vivo-b2b-movel/raw-zone/data/202409/20240929-182455.parquet/', 'gs://vivo-api-manager-gcs-sp/vivo-b2b-movel/raw-zone/data/202409/20240929-182513.parquet/', 'gs://vivo-api-manager-gcs-sp/vivo-b2b-movel/raw-zone/data/202409/20240929-184712.parquet/', 'gs://vivo-api-manager-gcs-sp/vivo-b2b-movel/raw-zone/data/202409/20240929-184754.parquet/', 'gs://vivo-api-manager-gcs-sp/vivo-b2b-movel/raw-zone/data/202409/20240929-184812.parquet/', 'gs://vivo-api-manager-gcs-sp/vivo-b2b-movel/raw-zone/data/202409/20240929-192248.parquet/', 'gs://vivo-api-manager-gcs-sp/vivo-b2b-movel/raw-zone/data/202409/20240929-192331.parquet/', 'gs://vivo-api-manager-gcs-sp/vivo-b2b-movel/raw-zone/data/202409/20240929-192349.parquet/']\n",
      "vivo-b2b-cross\n",
      "['gs://vivo-api-manager-gcs-sp/vivo-b2b-movel/raw-zone/data/202409/20240929-002857.parquet/', 'gs://vivo-api-manager-gcs-sp/vivo-b2b-movel/raw-zone/data/202409/20240929-002929.parquet/', 'gs://vivo-api-manager-gcs-sp/vivo-b2b-movel/raw-zone/data/202409/20240929-002942.parquet/', 'gs://vivo-api-manager-gcs-sp/vivo-b2b-movel/raw-zone/data/202409/20240929-150702.parquet/', 'gs://vivo-api-manager-gcs-sp/vivo-b2b-movel/raw-zone/data/202409/20240929-150746.parquet/', 'gs://vivo-api-manager-gcs-sp/vivo-b2b-movel/raw-zone/data/202409/20240929-150803.parquet/', 'gs://vivo-api-manager-gcs-sp/vivo-b2b-movel/raw-zone/data/202409/20240929-152818.parquet/', 'gs://vivo-api-manager-gcs-sp/vivo-b2b-movel/raw-zone/data/202409/20240929-152901.parquet/', 'gs://vivo-api-manager-gcs-sp/vivo-b2b-movel/raw-zone/data/202409/20240929-152917.parquet/', 'gs://vivo-api-manager-gcs-sp/vivo-b2b-movel/raw-zone/data/202409/20240929-182412.parquet/', 'gs://vivo-api-manager-gcs-sp/vivo-b2b-movel/raw-zone/data/202409/20240929-182455.parquet/', 'gs://vivo-api-manager-gcs-sp/vivo-b2b-movel/raw-zone/data/202409/20240929-182513.parquet/', 'gs://vivo-api-manager-gcs-sp/vivo-b2b-movel/raw-zone/data/202409/20240929-184712.parquet/', 'gs://vivo-api-manager-gcs-sp/vivo-b2b-movel/raw-zone/data/202409/20240929-184754.parquet/', 'gs://vivo-api-manager-gcs-sp/vivo-b2b-movel/raw-zone/data/202409/20240929-184812.parquet/', 'gs://vivo-api-manager-gcs-sp/vivo-b2b-movel/raw-zone/data/202409/20240929-192248.parquet/', 'gs://vivo-api-manager-gcs-sp/vivo-b2b-movel/raw-zone/data/202409/20240929-192331.parquet/', 'gs://vivo-api-manager-gcs-sp/vivo-b2b-movel/raw-zone/data/202409/20240929-192349.parquet/', 'gs://vivo-api-manager-gcs-sp/vivo-b2b-cross/raw-zone/data/202409/20240929-002952.parquet/', 'gs://vivo-api-manager-gcs-sp/vivo-b2b-cross/raw-zone/data/202409/20240929-003000.parquet/', 'gs://vivo-api-manager-gcs-sp/vivo-b2b-cross/raw-zone/data/202409/20240929-003008.parquet/', 'gs://vivo-api-manager-gcs-sp/vivo-b2b-cross/raw-zone/data/202409/20240929-150817.parquet/', 'gs://vivo-api-manager-gcs-sp/vivo-b2b-cross/raw-zone/data/202409/20240929-150830.parquet/', 'gs://vivo-api-manager-gcs-sp/vivo-b2b-cross/raw-zone/data/202409/20240929-150841.parquet/', 'gs://vivo-api-manager-gcs-sp/vivo-b2b-cross/raw-zone/data/202409/20240929-152932.parquet/', 'gs://vivo-api-manager-gcs-sp/vivo-b2b-cross/raw-zone/data/202409/20240929-152942.parquet/', 'gs://vivo-api-manager-gcs-sp/vivo-b2b-cross/raw-zone/data/202409/20240929-152952.parquet/', 'gs://vivo-api-manager-gcs-sp/vivo-b2b-cross/raw-zone/data/202409/20240929-184826.parquet/', 'gs://vivo-api-manager-gcs-sp/vivo-b2b-cross/raw-zone/data/202409/20240929-184840.parquet/', 'gs://vivo-api-manager-gcs-sp/vivo-b2b-cross/raw-zone/data/202409/20240929-184851.parquet/', 'gs://vivo-api-manager-gcs-sp/vivo-b2b-cross/raw-zone/data/202409/20240929-192403.parquet/', 'gs://vivo-api-manager-gcs-sp/vivo-b2b-cross/raw-zone/data/202409/20240929-192416.parquet/', 'gs://vivo-api-manager-gcs-sp/vivo-b2b-cross/raw-zone/data/202409/20240929-192428.parquet/']\n",
      "2024-09-28 20:59:59\n",
      "vivo-b2b-movel\n",
      "['gs://vivo-api-manager-gcs-sp/vivo-b2b-movel/raw-zone/data/202409/20240928-002857.parquet/', 'gs://vivo-api-manager-gcs-sp/vivo-b2b-movel/raw-zone/data/202409/20240928-002929.parquet/', 'gs://vivo-api-manager-gcs-sp/vivo-b2b-movel/raw-zone/data/202409/20240928-002942.parquet/', 'gs://vivo-api-manager-gcs-sp/vivo-b2b-movel/raw-zone/data/202409/20240928-150702.parquet/', 'gs://vivo-api-manager-gcs-sp/vivo-b2b-movel/raw-zone/data/202409/20240928-150746.parquet/', 'gs://vivo-api-manager-gcs-sp/vivo-b2b-movel/raw-zone/data/202409/20240928-150803.parquet/', 'gs://vivo-api-manager-gcs-sp/vivo-b2b-movel/raw-zone/data/202409/20240928-152818.parquet/', 'gs://vivo-api-manager-gcs-sp/vivo-b2b-movel/raw-zone/data/202409/20240928-152901.parquet/', 'gs://vivo-api-manager-gcs-sp/vivo-b2b-movel/raw-zone/data/202409/20240928-152917.parquet/', 'gs://vivo-api-manager-gcs-sp/vivo-b2b-movel/raw-zone/data/202409/20240928-182412.parquet/', 'gs://vivo-api-manager-gcs-sp/vivo-b2b-movel/raw-zone/data/202409/20240928-182455.parquet/', 'gs://vivo-api-manager-gcs-sp/vivo-b2b-movel/raw-zone/data/202409/20240928-182513.parquet/', 'gs://vivo-api-manager-gcs-sp/vivo-b2b-movel/raw-zone/data/202409/20240928-184712.parquet/', 'gs://vivo-api-manager-gcs-sp/vivo-b2b-movel/raw-zone/data/202409/20240928-184754.parquet/', 'gs://vivo-api-manager-gcs-sp/vivo-b2b-movel/raw-zone/data/202409/20240928-184812.parquet/', 'gs://vivo-api-manager-gcs-sp/vivo-b2b-movel/raw-zone/data/202409/20240928-192248.parquet/', 'gs://vivo-api-manager-gcs-sp/vivo-b2b-movel/raw-zone/data/202409/20240928-192331.parquet/', 'gs://vivo-api-manager-gcs-sp/vivo-b2b-movel/raw-zone/data/202409/20240928-192349.parquet/']\n",
      "vivo-b2b-cross\n",
      "['gs://vivo-api-manager-gcs-sp/vivo-b2b-movel/raw-zone/data/202409/20240928-002857.parquet/', 'gs://vivo-api-manager-gcs-sp/vivo-b2b-movel/raw-zone/data/202409/20240928-002929.parquet/', 'gs://vivo-api-manager-gcs-sp/vivo-b2b-movel/raw-zone/data/202409/20240928-002942.parquet/', 'gs://vivo-api-manager-gcs-sp/vivo-b2b-movel/raw-zone/data/202409/20240928-150702.parquet/', 'gs://vivo-api-manager-gcs-sp/vivo-b2b-movel/raw-zone/data/202409/20240928-150746.parquet/', 'gs://vivo-api-manager-gcs-sp/vivo-b2b-movel/raw-zone/data/202409/20240928-150803.parquet/', 'gs://vivo-api-manager-gcs-sp/vivo-b2b-movel/raw-zone/data/202409/20240928-152818.parquet/', 'gs://vivo-api-manager-gcs-sp/vivo-b2b-movel/raw-zone/data/202409/20240928-152901.parquet/', 'gs://vivo-api-manager-gcs-sp/vivo-b2b-movel/raw-zone/data/202409/20240928-152917.parquet/', 'gs://vivo-api-manager-gcs-sp/vivo-b2b-movel/raw-zone/data/202409/20240928-182412.parquet/', 'gs://vivo-api-manager-gcs-sp/vivo-b2b-movel/raw-zone/data/202409/20240928-182455.parquet/', 'gs://vivo-api-manager-gcs-sp/vivo-b2b-movel/raw-zone/data/202409/20240928-182513.parquet/', 'gs://vivo-api-manager-gcs-sp/vivo-b2b-movel/raw-zone/data/202409/20240928-184712.parquet/', 'gs://vivo-api-manager-gcs-sp/vivo-b2b-movel/raw-zone/data/202409/20240928-184754.parquet/', 'gs://vivo-api-manager-gcs-sp/vivo-b2b-movel/raw-zone/data/202409/20240928-184812.parquet/', 'gs://vivo-api-manager-gcs-sp/vivo-b2b-movel/raw-zone/data/202409/20240928-192248.parquet/', 'gs://vivo-api-manager-gcs-sp/vivo-b2b-movel/raw-zone/data/202409/20240928-192331.parquet/', 'gs://vivo-api-manager-gcs-sp/vivo-b2b-movel/raw-zone/data/202409/20240928-192349.parquet/', 'gs://vivo-api-manager-gcs-sp/vivo-b2b-cross/raw-zone/data/202409/20240928-002952.parquet/', 'gs://vivo-api-manager-gcs-sp/vivo-b2b-cross/raw-zone/data/202409/20240928-003000.parquet/', 'gs://vivo-api-manager-gcs-sp/vivo-b2b-cross/raw-zone/data/202409/20240928-003008.parquet/', 'gs://vivo-api-manager-gcs-sp/vivo-b2b-cross/raw-zone/data/202409/20240928-150817.parquet/', 'gs://vivo-api-manager-gcs-sp/vivo-b2b-cross/raw-zone/data/202409/20240928-150830.parquet/', 'gs://vivo-api-manager-gcs-sp/vivo-b2b-cross/raw-zone/data/202409/20240928-150841.parquet/', 'gs://vivo-api-manager-gcs-sp/vivo-b2b-cross/raw-zone/data/202409/20240928-152932.parquet/', 'gs://vivo-api-manager-gcs-sp/vivo-b2b-cross/raw-zone/data/202409/20240928-152942.parquet/', 'gs://vivo-api-manager-gcs-sp/vivo-b2b-cross/raw-zone/data/202409/20240928-152952.parquet/', 'gs://vivo-api-manager-gcs-sp/vivo-b2b-cross/raw-zone/data/202409/20240928-182528.parquet/', 'gs://vivo-api-manager-gcs-sp/vivo-b2b-cross/raw-zone/data/202409/20240928-182538.parquet/', 'gs://vivo-api-manager-gcs-sp/vivo-b2b-cross/raw-zone/data/202409/20240928-182548.parquet/', 'gs://vivo-api-manager-gcs-sp/vivo-b2b-cross/raw-zone/data/202409/20240928-184826.parquet/', 'gs://vivo-api-manager-gcs-sp/vivo-b2b-cross/raw-zone/data/202409/20240928-184840.parquet/', 'gs://vivo-api-manager-gcs-sp/vivo-b2b-cross/raw-zone/data/202409/20240928-184851.parquet/', 'gs://vivo-api-manager-gcs-sp/vivo-b2b-cross/raw-zone/data/202409/20240928-192403.parquet/', 'gs://vivo-api-manager-gcs-sp/vivo-b2b-cross/raw-zone/data/202409/20240928-192416.parquet/', 'gs://vivo-api-manager-gcs-sp/vivo-b2b-cross/raw-zone/data/202409/20240928-192428.parquet/']\n"
     ]
    }
   ],
   "source": [
    "bucket = gcsClient.get_bucket(BUCKET_NAME)\n",
    "processing_dates = [CURRENT_DATE - timedelta(days=i) for i in range(0, 3)]\n",
    "print(processing_dates)\n",
    "funnel_blobs = {}\n",
    "data_blobs = {}\n",
    "\n",
    "for processing_date in processing_dates:\n",
    "    print(processing_date)\n",
    "    funnel_blobs[processing_date] = []\n",
    "    data_blobs[processing_date] = []\n",
    "\n",
    "    for origin in ORIGINS:\n",
    "        # blobs = bucket.list_blobs(prefix=get_funnel_prefix_in_raw_zone(processing_date, origin))\n",
    "        # funnel_blobs[processing_date].extend([f\"gs://{BUCKET_NAME}/{blob.name}\" for blob in blobs if blob.name.endswith(\".parquet/\")])\n",
    "        print(origin)\n",
    "        blobs = bucket.list_blobs(prefix=get_data_prefix_in_raw_zone(processing_date, origin))\n",
    "        data_blobs[processing_date].extend([f\"gs://{BUCKET_NAME}/{blob.name}\" for blob in blobs if blob.name.endswith(\".parquet/\")])\n",
    "        print(data_blobs[processing_date])"
   ]
  },
  {
   "cell_type": "code",
   "execution_count": 12,
   "metadata": {
    "jupyter": {
     "source_hidden": true
    }
   },
   "outputs": [],
   "source": [
    "# # Fatiar a lista para pegar apenas os 5 primeiros blobs\n",
    "# all_blobs_t = [blob for processing_date in processing_dates for blob in data_blobs[processing_date]]\n",
    "\n",
    "\n",
    "# first_five_blobs = all_blobs_t[:1]\n",
    "# print(first_five_blobs)\n",
    "\n",
    "# # Ler os primeiros 5 arquivos Parquet no DataFrame\n",
    "# df = spark.read.parquet(*first_five_blobs)\n",
    "\n",
    "# # # Exibir o DataFrame\n",
    "# # df.show()  # Exibe as primeiras linhas do DataFrame\n"
   ]
  },
  {
   "cell_type": "code",
   "execution_count": 13,
   "metadata": {},
   "outputs": [],
   "source": [
    "# df.show()"
   ]
  },
  {
   "cell_type": "code",
   "execution_count": null,
   "metadata": {
    "scrolled": true
   },
   "outputs": [],
   "source": [
    "all_blobs = [blob for processing_date in processing_dates for blob in data_blobs[processing_date]]\n",
    "#print(all_blobs)\n",
    "if all_blobs:\n",
    "    df = spark.read.parquet(*all_blobs)\n",
    "    #print(df)\n",
    "\n",
    "#Aplicar transformações\n",
    "df = rename_columns(df)\n",
    "df = deduplicate_columns(df)\n",
    "print('rodou')"
   ]
  },
  {
   "cell_type": "code",
   "execution_count": null,
   "metadata": {},
   "outputs": [],
   "source": [
    "data_columns = {\n",
    "  'order_id': 'order_id',\n",
    "  'attempts': 'attempts',\n",
    "  'automation': 'automation',\n",
    "  'crm_order_id': 'crm_order_id',\n",
    "  'end_date_process': 'end_date_process',\n",
    "  'init_date_process': 'init_date_process',\n",
    "  'order_ref': 'order_ref',\n",
    "  'product_type': 'product_type',\n",
    "  'project_id': 'project_id',\n",
    "  'project_type': 'project_type',\n",
    "  'retry': 'retry',\n",
    "  'sale_type': 'sale_type',\n",
    "  'send_crm': 'send_crm',\n",
    "  'status': 'status',\n",
    "  'processed_at': 'processed_at',\n",
    "  \"utm.dados_adicionais\": \"utm_dados_adicionais\",\n",
    "  \"utm.medium\": \"utm_medium\",\n",
    "  \"utm.source\": \"utm_source\",\n",
    "  'utm.campaign': 'utm_campaign',\n",
    "  'utm.referrer': 'utm_referrer',\n",
    "  \"utm.term\": \"utm_term\",\n",
    "  \"sku\": \"sku\",\n",
    "  \"telefone\": \"telefone\",\n",
    "  \"telefonesecundario\": \"telefone_secundario\",\n",
    "  \"email\": \"email\",\n",
    "  \"endereco.cep\": \"cep\",\n",
    "  \"endereco.logradouro\": \"logradouro\",\n",
    "  \"endereco.num_imovel\": \"num_imovel\",\n",
    "  \"endereco.bairro\": \"bairro\",\n",
    "  \"endereco.estado\": \"estado\",\n",
    "  \"endereco.cidade\": \"cidade\",\n",
    "  \"endereco.complemento\": \"complemento\",\n",
    "  \"endereco.ponto_referencia \": \"ponto_referencia\",\n",
    "  \"cpf\": \"cpf\",\n",
    "  \"empresa.endereco.bairro\": \"empresa_bairro\",\n",
    "  \"empresa.endereco.cep\": \"empresa_cep\",\n",
    "  \"empresa.endereco.cidade\": \"empresa_cidade\",\n",
    "  \"empresa.endereco.complemento\": \"empresa_complemento\",\n",
    "  \"empresa.endereco.estado\": \"empresa_estado\",\n",
    "  \"empresa.endereco.logradouro\": \"empresa_logradouro\",\n",
    "  \"empresa.endereco.numimovel\": \"empresa_num_imovel\",\n",
    "  \"empresa.cnpj\": \"cnpj\",\n",
    "  \"empresa.razao_social\": \"razao_social\",\n",
    "  \"empresa.nomefantasia\": \"nome_fantasia\",\n",
    "  \"empresa.socios\": \"socios\",\n",
    "  \"empresa.telefone\": \"empresa_telefone\",\n",
    "  \"nome\": \"nome\",\n",
    "  \"datanascimento\": \"data_nascimento\",\n",
    "  \"nomemae\": \"nome_mae\",\n",
    "  \"contrato.checked\": \"contrato_checked\",\n",
    "  \"termo\": \"termo\",\n",
    "  \"linhas_moveis\": \"linhas_moveis\",\n",
    "  \"autenticacao.data\": \"autenticacao_data\",\n",
    "  \"autenticacao.id\": \"autenticacao_id\",\n",
    "  \"autenticacao.token\": \"autenticacao_token\",\n",
    "  \"cliente_base\": \"cliente_base\",\n",
    "  \"codinome\": \"codinome\",\n",
    "  \"licencas_office\": \"licencas_office\",\n",
    "  \"projeto\": \"projeto\",\n",
    "}"
   ]
  },
  {
   "cell_type": "code",
   "execution_count": null,
   "metadata": {
    "scrolled": true
   },
   "outputs": [],
   "source": [
    "final_data_df = df\\\n",
    "    .where(F.col(\"product_type\").isin(\"Controle\", \"ChatMovelB2B\", \"ChatMovelB2BOficial\", \"MDM\"))\\\n",
    "    .selectExpr(*[f\"`{column}` as {alias}\" if column in df.columns else f\"CAST(NULL as string) as {alias}\" for column, alias in data_columns.items()])\\\n",
    "    .drop(*[\"attempts\", \"automation\", \"retry\"])\\\n",
    "    .withColumn(\"init_date_process\", F.to_utc_timestamp(\"init_date_process\", \"America/Sao_Paulo\"))\\\n",
    "    .withColumn(\"end_date_process\", F.to_utc_timestamp(\"end_date_process\", \"America/Sao_Paulo\"))\\\n",
    "    .withColumn(\"send_crm\", F.when(F.col(\"send_crm\") == \"1\", True).otherwise(False))\\\n",
    "    .withColumn(\"processed_at\", F.to_utc_timestamp(\"processed_at\", \"America/Sao_Paulo\"))\n",
    "print('ok final_data_df')\n",
    "\n",
    "# Tratamento de valores vazios\n",
    "final_data_df = convert_empty_to_null(final_data_df, final_data_df.columns)\n",
    "\n",
    "print('final_data_df')\n",
    "# Gravar arquivo final\n",
    "\n",
    "\n",
    "\n"
   ]
  },
  {
   "cell_type": "code",
   "execution_count": null,
   "metadata": {},
   "outputs": [],
   "source": [
    "CURRENT_DATE = datetime.strptime(CURRENT_DATE_ARG, '%Y-%m-%dT%H:%M:%S')"
   ]
  },
  {
   "cell_type": "code",
   "execution_count": null,
   "metadata": {},
   "outputs": [],
   "source": [
    "final_data_df.write.mode(\"overwrite\").parquet(get_data_path_in_curated_zone(CURRENT_DATE, \"vivo-b2b-movel\"))\n",
    "print('overwrite')\n"
   ]
  },
  {
   "cell_type": "code",
   "execution_count": null,
   "metadata": {},
   "outputs": [],
   "source": [
    "print(final_data_df)"
   ]
  }
 ],
 "metadata": {
  "kernelspec": {
   "display_name": "Python 3 (ipykernel)",
   "language": "python",
   "name": "python3"
  },
  "language_info": {
   "codemirror_mode": {
    "name": "ipython",
    "version": 3
   },
   "file_extension": ".py",
   "mimetype": "text/x-python",
   "name": "python",
   "nbconvert_exporter": "python",
   "pygments_lexer": "ipython3",
   "version": "3.11.6"
  },
  "vscode": {
   "interpreter": {
    "hash": "8a94588eda9d64d9e9a351ab8144e55b1fabf5113b54e67dd26a8c27df0381b3"
   }
  }
 },
 "nbformat": 4,
 "nbformat_minor": 4
}
