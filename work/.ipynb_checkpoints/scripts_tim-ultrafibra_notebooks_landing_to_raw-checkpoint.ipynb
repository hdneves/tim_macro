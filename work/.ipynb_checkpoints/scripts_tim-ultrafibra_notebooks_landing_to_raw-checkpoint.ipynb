{
 "cells": [
  {
   "cell_type": "code",
   "execution_count": 3,
   "id": "2c83dd3f",
   "metadata": {
    "execution": {
     "iopub.execute_input": "2024-10-18T11:07:16.180548Z",
     "iopub.status.busy": "2024-10-18T11:07:16.179934Z",
     "iopub.status.idle": "2024-10-18T11:07:16.899269Z",
     "shell.execute_reply": "2024-10-18T11:07:16.898689Z"
    },
    "papermill": {
     "duration": 0.725387,
     "end_time": "2024-10-18T11:07:16.901000",
     "exception": false,
     "start_time": "2024-10-18T11:07:16.175613",
     "status": "completed"
    },
    "tags": []
   },
   "outputs": [],
   "source": [
    "from pyspark.sql.types import StringType\n",
    "from datetime import datetime, timedelta\n",
    "from pyspark.sql import functions as F\n",
    "from pyspark.sql import SparkSession\n",
    "from google.cloud import storage\n",
    "from functools import reduce"
   ]
  },
  {
   "cell_type": "code",
   "execution_count": 4,
   "id": "1d0c96ad",
   "metadata": {
    "execution": {
     "iopub.execute_input": "2024-10-18T11:07:16.907757Z",
     "iopub.status.busy": "2024-10-18T11:07:16.907305Z",
     "iopub.status.idle": "2024-10-18T11:07:16.910478Z",
     "shell.execute_reply": "2024-10-18T11:07:16.909958Z"
    },
    "papermill": {
     "duration": 0.008893,
     "end_time": "2024-10-18T11:07:16.911666",
     "exception": false,
     "start_time": "2024-10-18T11:07:16.902773",
     "status": "completed"
    },
    "tags": [
     "parameters"
    ]
   },
   "outputs": [],
   "source": [
    "CURRENT_DATE_ARG = None"
   ]
  },
  {
   "cell_type": "code",
   "execution_count": 5,
   "id": "394a16ab",
   "metadata": {
    "execution": {
     "iopub.execute_input": "2024-10-18T11:07:16.916158Z",
     "iopub.status.busy": "2024-10-18T11:07:16.915592Z",
     "iopub.status.idle": "2024-10-18T11:07:16.919079Z",
     "shell.execute_reply": "2024-10-18T11:07:16.918620Z"
    },
    "papermill": {
     "duration": 0.006826,
     "end_time": "2024-10-18T11:07:16.920152",
     "exception": false,
     "start_time": "2024-10-18T11:07:16.913326",
     "status": "completed"
    },
    "tags": []
   },
   "outputs": [],
   "source": [
    "BUCKET_NAME = \"tim-ultrafibra-gcs-sp\"\n",
    "ORIGINS = [\"bot_social\", \"bot_midia\", \"bot_crm\", \"bot_ativo\", \"bot_alpha\", \"bot_comparador\", \"bot_crm_2\", \"bot_social_2\"]\n",
    "CURRENT_DATE = datetime.strptime(CURRENT_DATE_ARG, '%Y-%m-%dT%H:%M:%S') if CURRENT_DATE_ARG is not None else datetime.today() "
   ]
  },
  {
   "cell_type": "code",
   "execution_count": 7,
   "id": "8cf28ac4",
   "metadata": {
    "execution": {
     "iopub.execute_input": "2024-10-18T11:07:16.924657Z",
     "iopub.status.busy": "2024-10-18T11:07:16.924153Z",
     "iopub.status.idle": "2024-10-18T11:07:16.926973Z",
     "shell.execute_reply": "2024-10-18T11:07:16.926500Z"
    },
    "papermill": {
     "duration": 0.006108,
     "end_time": "2024-10-18T11:07:16.928104",
     "exception": false,
     "start_time": "2024-10-18T11:07:16.921996",
     "status": "completed"
    },
    "tags": []
   },
   "outputs": [
    {
     "name": "stdout",
     "output_type": "stream",
     "text": [
      "2024-10-06 17:59:59\n"
     ]
    }
   ],
   "source": [
    "BRAZILIAN_TIMEDIFF = timedelta(hours=3)\n",
    "CURRENT_DATE = CURRENT_DATE - BRAZILIAN_TIMEDIFF\n",
    "print(CURRENT_DATE)"
   ]
  },
  {
   "cell_type": "code",
   "execution_count": 5,
   "id": "5926fa15",
   "metadata": {
    "execution": {
     "iopub.execute_input": "2024-10-18T11:07:16.932496Z",
     "iopub.status.busy": "2024-10-18T11:07:16.931941Z",
     "iopub.status.idle": "2024-10-18T11:07:16.936082Z",
     "shell.execute_reply": "2024-10-18T11:07:16.935507Z"
    },
    "papermill": {
     "duration": 0.007589,
     "end_time": "2024-10-18T11:07:16.937197",
     "exception": false,
     "start_time": "2024-10-18T11:07:16.929608",
     "status": "completed"
    },
    "tags": []
   },
   "outputs": [],
   "source": [
    "def is_midnight_hour(hour):\n",
    "  return hour >= 0 and hour <= 4\n",
    "\n",
    "if is_midnight_hour(CURRENT_DATE.hour):\n",
    "  CURRENT_DATE = CURRENT_DATE - timedelta(days=1)\n",
    "  CURRENT_DATE = CURRENT_DATE.replace(hour=23, minute=59, second=59)"
   ]
  },
  {
   "cell_type": "code",
   "execution_count": 6,
   "id": "f975a1c8",
   "metadata": {
    "execution": {
     "iopub.execute_input": "2024-10-18T11:07:16.942629Z",
     "iopub.status.busy": "2024-10-18T11:07:16.942164Z",
     "iopub.status.idle": "2024-10-18T11:07:26.314368Z",
     "shell.execute_reply": "2024-10-18T11:07:26.313701Z"
    },
    "papermill": {
     "duration": 9.377419,
     "end_time": "2024-10-18T11:07:26.316053",
     "exception": false,
     "start_time": "2024-10-18T11:07:16.938634",
     "status": "completed"
    },
    "tags": []
   },
   "outputs": [],
   "source": [
    "spark = SparkSession.builder.appName(\"tim_ultrafibra_landing_to_raw\")\\\n",
    "  .config(\"spark.sql.caseSensitive\", \"True\")\\\n",
    "  .config(\"spark.sql.session.timeZone\", \"America/Sao_Paulo\")\\\n",
    "  .getOrCreate()\n",
    "\n",
    "gcsClient = storage.Client()"
   ]
  },
  {
   "cell_type": "code",
   "execution_count": 7,
   "id": "8165bacd",
   "metadata": {
    "execution": {
     "iopub.execute_input": "2024-10-18T11:07:26.321720Z",
     "iopub.status.busy": "2024-10-18T11:07:26.321398Z",
     "iopub.status.idle": "2024-10-18T11:07:26.326358Z",
     "shell.execute_reply": "2024-10-18T11:07:26.325806Z"
    },
    "papermill": {
     "duration": 0.009863,
     "end_time": "2024-10-18T11:07:26.327608",
     "exception": false,
     "start_time": "2024-10-18T11:07:26.317745",
     "status": "completed"
    },
    "tags": []
   },
   "outputs": [],
   "source": [
    "def get_path_in_landing_zone(datetime: datetime, origin: str):\n",
    "  return f\"gs://{BUCKET_NAME}/landing-zone/{origin}/{datetime.strftime('%Y%m%d')}.parquet\"\n",
    "\n",
    "def get_path_in_raw_zone(datetime: datetime, origin: str):\n",
    "  return f\"gs://{BUCKET_NAME}/raw-zone/{origin}/{datetime.strftime('%Y%m')}/{datetime.strftime('%Y%m%d-%H%M%S')}.parquet\"\n",
    "\n",
    "def get_prefix_in_landing_zone(datetime: datetime, origin: str):\n",
    "  return f\"landing-zone/{origin}/{datetime.strftime('%Y%m%d')}\"\n",
    "\n",
    "def reduce_dataframe(dfs: list):\n",
    "  if len(dfs) == 0:\n",
    "    return spark.createDataFrame([], StringType())\n",
    "  elif len(dfs) == 1:\n",
    "    return dfs[0]\n",
    "  else:\n",
    "    return reduce(lambda df1, df2: df1.unionByName(df2, allowMissingColumns=True), dfs)"
   ]
  },
  {
   "cell_type": "code",
   "execution_count": 8,
   "id": "a282e622",
   "metadata": {
    "execution": {
     "iopub.execute_input": "2024-10-18T11:07:26.333620Z",
     "iopub.status.busy": "2024-10-18T11:07:26.333395Z",
     "iopub.status.idle": "2024-10-18T11:07:26.546623Z",
     "shell.execute_reply": "2024-10-18T11:07:26.545530Z"
    },
    "papermill": {
     "duration": 0.217534,
     "end_time": "2024-10-18T11:07:26.548290",
     "exception": false,
     "start_time": "2024-10-18T11:07:26.330756",
     "status": "completed"
    },
    "tags": []
   },
   "outputs": [],
   "source": [
    "bucket = gcsClient.get_bucket(BUCKET_NAME)\n",
    "\n",
    "blobs_per_origin = {}\n",
    "\n",
    "for origin in ORIGINS:\n",
    "  blobs = bucket.list_blobs(prefix=get_prefix_in_landing_zone(CURRENT_DATE, origin))\n",
    "  blobs_per_origin[origin] = [f\"gs://{BUCKET_NAME}/{blob.name}\" for blob in blobs]"
   ]
  },
  {
   "cell_type": "code",
   "execution_count": 9,
   "id": "96256b23",
   "metadata": {
    "execution": {
     "iopub.execute_input": "2024-10-18T11:07:26.553820Z",
     "iopub.status.busy": "2024-10-18T11:07:26.553228Z",
     "iopub.status.idle": "2024-10-18T11:08:10.885449Z",
     "shell.execute_reply": "2024-10-18T11:08:10.884729Z"
    },
    "papermill": {
     "duration": 44.336744,
     "end_time": "2024-10-18T11:08:10.887102",
     "exception": false,
     "start_time": "2024-10-18T11:07:26.550358",
     "status": "completed"
    },
    "tags": []
   },
   "outputs": [],
   "source": [
    "for origin in ORIGINS:\n",
    "  dataframes_list = []\n",
    "  for blob_path in blobs_per_origin[origin]:\n",
    "    df = spark.read.option(\"multiline\",\"true\").json(blob_path)\n",
    "    if \"resource\" not in df.columns:\n",
    "      continue\n",
    "\n",
    "    is_empty = df.select(\"resource.items\").collect()[0][0] == []\n",
    "    if not is_empty:\n",
    "      messageFieldNames = df\\\n",
    "          .withColumn(\"items\", F.explode(F.col(\"resource.items\")))\\\n",
    "          .select(\"items.*\")\\\n",
    "          .schema.fieldNames()\n",
    "      \n",
    "      if \"extras\" in messageFieldNames:\n",
    "        messageFieldNames.remove(\"extras\")\n",
    "\n",
    "        extraFieldNames = df.select(\"resource.items\")\\\n",
    "          .withColumn(\"extras\", F.explode(F.col(\"items.extras\")))\\\n",
    "          .select(\"extras.*\")\\\n",
    "          .schema.fieldNames()\n",
    "\n",
    "        extraFieldNames = [fieldName for fieldName in extraFieldNames if fieldName not in messageFieldNames]\n",
    "\n",
    "        flattened_df = df.select(F.explode(df['resource.items']).alias('items'))\n",
    "        flattened_df = flattened_df.select([\"*\"] + [F.col(\"items.extras\")])\n",
    "\n",
    "        flattened_df = flattened_df.select(\n",
    "            [F.col(f\"extras.`{fieldName}`\").alias(f\"{fieldName}\") for fieldName in extraFieldNames] +\n",
    "            [F.col(f\"items.`{fieldName}`\").alias(f\"{fieldName}\") for fieldName in messageFieldNames]\n",
    "          )\n",
    "        flattened_df = flattened_df\\\n",
    "          .withColumn(\"lastMessageDate\", F.from_utc_timestamp(F.col(\"lastMessageDate\"), \"UTC\"))\\\n",
    "          .filter(F.col(\"lastMessageDate\").cast(\"date\") == CURRENT_DATE.strftime(\"%Y-%m-%d\"))\n",
    "\n",
    "        dataframes_list.append(flattened_df)\n",
    "  \n",
    "  final_dataframe = reduce_dataframe(dataframes_list)\n",
    "  final_dataframe.write.parquet(get_path_in_raw_zone(CURRENT_DATE, origin), mode=\"append\", compression=\"gzip\")"
   ]
  },
  {
   "cell_type": "code",
   "execution_count": 10,
   "id": "dd2887fc",
   "metadata": {
    "execution": {
     "iopub.execute_input": "2024-10-18T11:08:10.891965Z",
     "iopub.status.busy": "2024-10-18T11:08:10.891550Z",
     "iopub.status.idle": "2024-10-18T11:08:11.394718Z",
     "shell.execute_reply": "2024-10-18T11:08:11.394124Z"
    },
    "papermill": {
     "duration": 0.507586,
     "end_time": "2024-10-18T11:08:11.396559",
     "exception": false,
     "start_time": "2024-10-18T11:08:10.888973",
     "status": "completed"
    },
    "tags": []
   },
   "outputs": [],
   "source": [
    "for origin in ORIGINS:\n",
    "  bucket.delete_blobs([blob_path.replace(f\"gs://{BUCKET_NAME}/\", \"\") for blob_path in blobs_per_origin[origin]])"
   ]
  }
 ],
 "metadata": {
  "kernelspec": {
   "display_name": "Python 3",
   "language": "python",
   "name": "python3"
  },
  "language_info": {
   "codemirror_mode": {
    "name": "ipython",
    "version": 3
   },
   "file_extension": ".py",
   "mimetype": "text/x-python",
   "name": "python",
   "nbconvert_exporter": "python",
   "pygments_lexer": "ipython3",
   "version": "3.12.7"
  },
  "papermill": {
   "default_parameters": {},
   "duration": 57.045527,
   "end_time": "2024-10-18T11:08:11.816799",
   "environment_variables": {},
   "exception": null,
   "input_path": "input_landing.ipynb",
   "output_path": "output_landing.ipynb",
   "parameters": {},
   "start_time": "2024-10-18T11:07:14.771272",
   "version": "2.4.0"
  }
 },
 "nbformat": 4,
 "nbformat_minor": 5
}
