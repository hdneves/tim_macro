{
 "cells": [
  {
   "cell_type": "code",
   "execution_count": 1,
   "id": "064fcf72",
   "metadata": {
    "execution": {
     "iopub.execute_input": "2024-10-18T11:08:21.722971Z",
     "iopub.status.busy": "2024-10-18T11:08:21.722719Z",
     "iopub.status.idle": "2024-10-18T11:08:22.394069Z",
     "shell.execute_reply": "2024-10-18T11:08:22.393322Z"
    },
    "papermill": {
     "duration": 0.677397,
     "end_time": "2024-10-18T11:08:22.395830",
     "exception": false,
     "start_time": "2024-10-18T11:08:21.718433",
     "status": "completed"
    },
    "tags": []
   },
   "outputs": [],
   "source": [
    "from pyspark.sql import SparkSession, DataFrame\n",
    "from datetime import datetime, timedelta\n",
    "from pyspark.sql.types import *\n",
    "from pyspark.sql import functions as F\n",
    "from google.cloud import storage\n",
    "from functools import reduce\n",
    "import re"
   ]
  },
  {
   "cell_type": "code",
   "execution_count": 2,
   "id": "715c963a",
   "metadata": {
    "execution": {
     "iopub.execute_input": "2024-10-18T11:08:22.401883Z",
     "iopub.status.busy": "2024-10-18T11:08:22.401291Z",
     "iopub.status.idle": "2024-10-18T11:08:22.404419Z",
     "shell.execute_reply": "2024-10-18T11:08:22.403828Z"
    },
    "papermill": {
     "duration": 0.007388,
     "end_time": "2024-10-18T11:08:22.405622",
     "exception": false,
     "start_time": "2024-10-18T11:08:22.398234",
     "status": "completed"
    },
    "tags": [
     "parameters"
    ]
   },
   "outputs": [],
   "source": [
    "CURRENT_DATE_ARG = None"
   ]
  },
  {
   "cell_type": "code",
   "execution_count": 3,
   "id": "305ce733",
   "metadata": {
    "execution": {
     "iopub.execute_input": "2024-10-18T11:08:22.410783Z",
     "iopub.status.busy": "2024-10-18T11:08:22.410579Z",
     "iopub.status.idle": "2024-10-18T11:08:22.414458Z",
     "shell.execute_reply": "2024-10-18T11:08:22.413975Z"
    },
    "papermill": {
     "duration": 0.007895,
     "end_time": "2024-10-18T11:08:22.415572",
     "exception": false,
     "start_time": "2024-10-18T11:08:22.407677",
     "status": "completed"
    },
    "tags": []
   },
   "outputs": [],
   "source": [
    "ORIGINS = [\"bot_social\", \"bot_ativo\", \"bot_crm\", \"bot_midia\", \"bot_alpha\", \"bot_comparador\", \"bot_crm_2\", \"bot_social_2\"]\n",
    "BUCKET_NAME = \"tim-ultrafibra-gcs-sp\"\n",
    "CURRENT_DATE = datetime.strptime(CURRENT_DATE_ARG, '%Y-%m-%dT%H:%M:%S') if CURRENT_DATE_ARG is not None else datetime.today() \n",
    "ORIGIN_ID = {\n",
    "  \"bot_social\": \"08009425040\",\n",
    "  \"bot_ativo\": \"8001262276\",\n",
    "  \"bot_crm\": \"08009419620\",\n",
    "  \"bot_midia\": \"8008002003\",\n",
    "  \"bot_alpha\": \"8009419679\",\n",
    "  \"bot_comparador\": \"8009419612\",\n",
    "  \"bot_crm_2\": \"08009419578\",\n",
    "  \"bot_social_2\": \"08009425111\"\n",
    "}"
   ]
  },
  {
   "cell_type": "code",
   "execution_count": 4,
   "id": "afb9a4d5",
   "metadata": {
    "execution": {
     "iopub.execute_input": "2024-10-18T11:08:22.420896Z",
     "iopub.status.busy": "2024-10-18T11:08:22.420408Z",
     "iopub.status.idle": "2024-10-18T11:08:22.423181Z",
     "shell.execute_reply": "2024-10-18T11:08:22.422732Z"
    },
    "papermill": {
     "duration": 0.006712,
     "end_time": "2024-10-18T11:08:22.424327",
     "exception": false,
     "start_time": "2024-10-18T11:08:22.417615",
     "status": "completed"
    },
    "tags": []
   },
   "outputs": [],
   "source": [
    "BRAZILIAN_TIMEDIFF = timedelta(hours=3)\n",
    "CURRENT_DATE = CURRENT_DATE - BRAZILIAN_TIMEDIFF"
   ]
  },
  {
   "cell_type": "code",
   "execution_count": 5,
   "id": "64a55001",
   "metadata": {
    "execution": {
     "iopub.execute_input": "2024-10-18T11:08:22.429653Z",
     "iopub.status.busy": "2024-10-18T11:08:22.429204Z",
     "iopub.status.idle": "2024-10-18T11:08:22.432659Z",
     "shell.execute_reply": "2024-10-18T11:08:22.432132Z"
    },
    "papermill": {
     "duration": 0.007561,
     "end_time": "2024-10-18T11:08:22.433923",
     "exception": false,
     "start_time": "2024-10-18T11:08:22.426362",
     "status": "completed"
    },
    "tags": []
   },
   "outputs": [],
   "source": [
    "def is_midnight_hour(hour):\n",
    "  return hour >= 0 and hour <= 4\n",
    "\n",
    "if is_midnight_hour(CURRENT_DATE.hour):\n",
    "  CURRENT_DATE = CURRENT_DATE - timedelta(days=1)\n",
    "  CURRENT_DATE = CURRENT_DATE.replace(hour=23, minute=59, second=59)"
   ]
  },
  {
   "cell_type": "code",
   "execution_count": 6,
   "id": "135bc107",
   "metadata": {
    "execution": {
     "iopub.execute_input": "2024-10-18T11:08:22.439563Z",
     "iopub.status.busy": "2024-10-18T11:08:22.438925Z",
     "iopub.status.idle": "2024-10-18T11:08:29.820612Z",
     "shell.execute_reply": "2024-10-18T11:08:29.819793Z"
    },
    "papermill": {
     "duration": 7.386505,
     "end_time": "2024-10-18T11:08:29.822627",
     "exception": false,
     "start_time": "2024-10-18T11:08:22.436122",
     "status": "completed"
    },
    "tags": []
   },
   "outputs": [],
   "source": [
    "spark = SparkSession.builder.appName(\"tim_ultrafibra_raw_to_curated\")\\\n",
    "  .config(\"spark.sql.caseSensitive\", \"True\")\\\n",
    "  .config(\"spark.sql.session.timeZone\", \"America/Sao_Paulo\")\\\n",
    "  .getOrCreate()\n",
    "\n",
    "gcsClient = storage.Client()"
   ]
  },
  {
   "cell_type": "code",
   "execution_count": 7,
   "id": "1b3ad7b1",
   "metadata": {
    "execution": {
     "iopub.execute_input": "2024-10-18T11:08:29.830237Z",
     "iopub.status.busy": "2024-10-18T11:08:29.829782Z",
     "iopub.status.idle": "2024-10-18T11:08:29.839917Z",
     "shell.execute_reply": "2024-10-18T11:08:29.839158Z"
    },
    "papermill": {
     "duration": 0.016329,
     "end_time": "2024-10-18T11:08:29.841832",
     "exception": false,
     "start_time": "2024-10-18T11:08:29.825503",
     "status": "completed"
    },
    "tags": []
   },
   "outputs": [],
   "source": [
    "def to_snake_case(input_string):\n",
    "  input_string = input_string.replace(\" \", \"_\").replace(\"-\", \"_\")\n",
    "  snake_case_string = re.sub(r'([a-z0-9])([A-Z])', r'\\1_\\2', input_string)\n",
    "  return snake_case_string.lower()\n",
    "\n",
    "def sanitize_column_name(text):\n",
    "  text = to_snake_case(text).replace(\"/\", \"_\")\n",
    "  text = re.sub(r\"_\\d+(\\.\\d?)*_\", \"_\", text, count=1)\n",
    "  return text\n",
    "\n",
    "def create_column_name(df: DataFrame, list_columns: list) -> DataFrame:\n",
    "  for col_name in list_columns:\n",
    "    if col_name not in df.columns:\n",
    "      df = df.withColumn(col_name, F.lit(None).cast(StringType()))\n",
    "  return df\n",
    "\n",
    "def rename_columns(df: DataFrame, list_step_not_identified: list) -> DataFrame:\n",
    "  step_pattern = re.compile(r\"^\\d.*\\.\\d?\\s\")\n",
    "  for col_name in df.columns:\n",
    "    if step_pattern.match(col_name) or col_name in list_step_not_identified:\n",
    "      if \"Etapa\" not in col_name:\n",
    "        new_column_name = sanitize_column_name(f\"etapa_{col_name}\")\n",
    "      else:\n",
    "        new_column_name = sanitize_column_name(col_name)\n",
    "      if new_column_name in df.columns:\n",
    "        df = df.withColumn(new_column_name, F.col(new_column_name) | F.when(F.col(f\"`{col_name}`\") == \"1\", True).otherwise(False))\\\n",
    "          .drop(col_name)\n",
    "      else:\n",
    "        df = df.withColumn(new_column_name, F.when(F.col(f\"`{col_name}`\") == \"1\", True).otherwise(False))\\\n",
    "          .drop(col_name)\n",
    "    else:\n",
    "      df = df.withColumnRenamed(col_name, sanitize_column_name(col_name))\n",
    "  return df"
   ]
  },
  {
   "cell_type": "code",
   "execution_count": 8,
   "id": "344daf80",
   "metadata": {
    "execution": {
     "iopub.execute_input": "2024-10-18T11:08:29.848903Z",
     "iopub.status.busy": "2024-10-18T11:08:29.848503Z",
     "iopub.status.idle": "2024-10-18T11:08:29.859831Z",
     "shell.execute_reply": "2024-10-18T11:08:29.858863Z"
    },
    "papermill": {
     "duration": 0.017072,
     "end_time": "2024-10-18T11:08:29.861751",
     "exception": false,
     "start_time": "2024-10-18T11:08:29.844679",
     "status": "completed"
    },
    "tags": []
   },
   "outputs": [],
   "source": [
    "def get_path_in_raw_zone(datetime: datetime, origin: str):\n",
    "  return f\"gs://{BUCKET_NAME}/raw-zone/{origin}/{datetime.strftime('%Y%m')}/{datetime.strftime('%Y%m%d-%H%M%S')}.parquet\"\n",
    "\n",
    "def get_path_in_curated_zone(datetime: datetime, origin: str):\n",
    "  return f\"gs://{BUCKET_NAME}/curated-zone/{origin}/{datetime.strftime('%Y%m')}/{datetime.strftime('%Y%m%d')}.parquet\"\n",
    "\n",
    "def get_prefix_in_raw_zone(datetime: datetime, origin: str):\n",
    "  return f\"raw-zone/{origin}/{datetime.strftime('%Y%m')}/{datetime.strftime('%Y%m%d')}\"\n",
    "\n",
    "def unify_columns(df: DataFrame, columns: list):\n",
    "  existing_columns = [col for col in columns if col in df.columns]\n",
    "  existing_columns.sort(key=lambda col: df.where(F.col(col).isNotNull()).count(), reverse=True)\n",
    "  if len(existing_columns) == 0:\n",
    "    return F.lit(None).cast(StringType())\n",
    "  return F.coalesce(*existing_columns)\n",
    "\n",
    "def convert_empty_string_to_null(df: DataFrame, columns: list):\n",
    "  supported_types = [StringType(), IntegerType(), DoubleType(), FloatType(), LongType(), ShortType(), ByteType(), BooleanType(), DecimalType()]\n",
    "  for column_name in columns:\n",
    "    column_type = df.schema[column_name].dataType\n",
    "    if column_type not in supported_types:\n",
    "      column_type = StringType()\n",
    "    df = df.withColumn(column_name, F.when(F.col(column_name) == \"null\", F.lit(None).cast(column_type)).otherwise(F.col(column_name)))\n",
    "  return df\n",
    "\n",
    "def reduce_dataframe(dfs: list):\n",
    "  if len(dfs) == 0:\n",
    "    return spark.createDataFrame([], StringType())\n",
    "  elif len(dfs) == 1:\n",
    "    return dfs[0]\n",
    "  else:\n",
    "    return reduce(lambda df1, df2: df1.unionByName(df2, allowMissingColumns=True), dfs)"
   ]
  },
  {
   "cell_type": "code",
   "execution_count": 9,
   "id": "18c7c4d1",
   "metadata": {
    "execution": {
     "iopub.execute_input": "2024-10-18T11:08:29.874519Z",
     "iopub.status.busy": "2024-10-18T11:08:29.873815Z",
     "iopub.status.idle": "2024-10-18T11:08:30.070640Z",
     "shell.execute_reply": "2024-10-18T11:08:30.068637Z"
    },
    "papermill": {
     "duration": 0.208313,
     "end_time": "2024-10-18T11:08:30.074209",
     "exception": false,
     "start_time": "2024-10-18T11:08:29.865896",
     "status": "completed"
    },
    "tags": []
   },
   "outputs": [],
   "source": [
    "bucket = gcsClient.get_bucket(BUCKET_NAME)\n",
    "\n",
    "blobs_per_origin = {}\n",
    "\n",
    "for origin in ORIGINS:\n",
    "  blobs = bucket.list_blobs(prefix=get_prefix_in_raw_zone(CURRENT_DATE, origin))\n",
    "  blobs_per_origin[origin] = [f\"gs://{BUCKET_NAME}/{blob.name}\" for blob in blobs if blob.name.endswith(\".parquet/\")]"
   ]
  },
  {
   "cell_type": "code",
   "execution_count": 10,
   "id": "223d1a69",
   "metadata": {
    "execution": {
     "iopub.execute_input": "2024-10-18T11:08:30.089289Z",
     "iopub.status.busy": "2024-10-18T11:08:30.088961Z",
     "iopub.status.idle": "2024-10-18T11:08:30.094726Z",
     "shell.execute_reply": "2024-10-18T11:08:30.093977Z"
    },
    "papermill": {
     "duration": 0.019267,
     "end_time": "2024-10-18T11:08:30.096435",
     "exception": false,
     "start_time": "2024-10-18T11:08:30.077168",
     "status": "completed"
    },
    "tags": []
   },
   "outputs": [],
   "source": [
    "columns_to_drop = [\n",
    "  'apiwci',\n",
    "  'Chat Messages From Origin',\n",
    "  'Combinacao',\n",
    "  'OptInMensagemAtiva',\n",
    "  'responseAtualiza',\n",
    "  'responseDadosPessoais',\n",
    "  'responseEndereco',\n",
    "  'responseFatura',\n",
    "  'responseSV',\n",
    "  'responseVia',\n",
    "  'responseendereco1',\n",
    "  'responseviabilidade',\n",
    "  'statusAtualiza',\n",
    "  'statusDadosPessoais',\n",
    "  'statusEndereco',\n",
    "  'statusFatura',\n",
    "  'statusSV',\n",
    "  'statusVia',\n",
    "  'statusendereco1',\n",
    "  'statusviabilidade',\n",
    "  'dataAgendamento1',\n",
    "  'dataAgendamento2',\n",
    "  'lastMessageDate',\n",
    "  'Primeira Mensagem',\n",
    "  'Primeira mensagem',\n",
    "  'primeiraMensagem',\n",
    "  'Primeira_mensagem',\n",
    "  'responseatualiza',\n",
    "  'SourceId',\n",
    "  'SourceTitle',\n",
    "  'SourceType',\n",
    "  'SourceUrl',\n",
    "  'utmMedium',\n",
    "  'UtmMedium',\n",
    "  'utmSource',\n",
    "  'UtmSource',\n",
    "  'utmCampaign',\n",
    "  'UtmCampaign',\n",
    "  'utmCampaign2'\n",
    "]"
   ]
  },
  {
   "cell_type": "code",
   "execution_count": 11,
   "id": "770360ed",
   "metadata": {
    "execution": {
     "iopub.execute_input": "2024-10-18T11:08:30.106459Z",
     "iopub.status.busy": "2024-10-18T11:08:30.105733Z",
     "iopub.status.idle": "2024-10-18T11:08:30.109523Z",
     "shell.execute_reply": "2024-10-18T11:08:30.108982Z"
    },
    "papermill": {
     "duration": 0.010289,
     "end_time": "2024-10-18T11:08:30.110985",
     "exception": false,
     "start_time": "2024-10-18T11:08:30.100696",
     "status": "completed"
    },
    "tags": []
   },
   "outputs": [],
   "source": [
    "list_date_cols = ['dataAgendamento1', 'dataAgendamento2', 'dataAgendamento3', 'data1', 'data2', 'data3']"
   ]
  },
  {
   "cell_type": "code",
   "execution_count": 12,
   "id": "bd00abf9",
   "metadata": {
    "execution": {
     "iopub.execute_input": "2024-10-18T11:08:30.119725Z",
     "iopub.status.busy": "2024-10-18T11:08:30.119464Z",
     "iopub.status.idle": "2024-10-18T11:08:30.122976Z",
     "shell.execute_reply": "2024-10-18T11:08:30.122307Z"
    },
    "papermill": {
     "duration": 0.00953,
     "end_time": "2024-10-18T11:08:30.124314",
     "exception": false,
     "start_time": "2024-10-18T11:08:30.114784",
     "status": "completed"
    },
    "tags": []
   },
   "outputs": [],
   "source": [
    "columns_create_step = [\"data_agendamento_1\", \"data_agendamento_2\", \"data_agendamento_3\", \"Retomada\"]"
   ]
  },
  {
   "cell_type": "code",
   "execution_count": 13,
   "id": "2b61d115",
   "metadata": {
    "execution": {
     "iopub.execute_input": "2024-10-18T11:08:30.130536Z",
     "iopub.status.busy": "2024-10-18T11:08:30.130317Z",
     "iopub.status.idle": "2024-10-18T11:11:44.072684Z",
     "shell.execute_reply": "2024-10-18T11:11:44.071955Z"
    },
    "papermill": {
     "duration": 193.947827,
     "end_time": "2024-10-18T11:11:44.074507",
     "exception": false,
     "start_time": "2024-10-18T11:08:30.126680",
     "status": "completed"
    },
    "tags": []
   },
   "outputs": [],
   "source": [
    "dataframes_per_origin = {}\n",
    "\n",
    "for origin in ORIGINS:\n",
    "  dataframe_list = []\n",
    "  for blob_path in blobs_per_origin[origin]:\n",
    "    df = spark.read.parquet(blob_path)\n",
    "\n",
    "    df = create_column_name(df, list_date_cols)\n",
    "\n",
    "    df = df.withColumn('utm_campaign', unify_columns(df, ['utmCampaign', 'UtmCampaign', 'utmCampaign2']))\n",
    "    df = df.withColumn('utm_medium', unify_columns(df, ['utmMedium', 'UtmMedium']))\n",
    "    df = df.withColumn('tipo', F.col('utmMedium') if \"utmMedium\" in df.columns else F.lit(None).cast(StringType()))\n",
    "    df = df.withColumn('utm_source', unify_columns(df, ['utmSource', 'UtmSource']))\n",
    "    df = df.withColumn('source_id', unify_columns(df, ['source_id', 'SourceId']))\n",
    "    df = df.withColumn('source_type', unify_columns(df, ['source_type', 'SourceType']))\n",
    "    df = df.withColumn('source_url', unify_columns(df, ['source_url', 'SourceUrl']))\n",
    "    df = df.withColumn('data_agendamento_1', F.when(F.trim(F.col('data1')).isNull() | (F.trim(F.col('data1')) == \"\"), F.col('dataAgendamento1')).otherwise(F.col('data1')))\n",
    "    df = df.withColumn('data_agendamento_2', F.when(F.trim(F.col('data2')).isNull() | (F.trim(F.col('data2')) == \"\"), F.col('dataAgendamento2')).otherwise(F.col('data2')))\n",
    "    df = df.withColumn('data_agendamento_3', F.when(F.trim(F.col('data3')).isNull() | (F.trim(F.col('data3')) == \"\"), F.col('dataAgendamento3')).otherwise(F.col('data3')))\n",
    "    df = df.withColumn('primeira_mensagem1', unify_columns(df, ['Primeira Mensagem', 'Primeira mensagem', 'primeiraMensagem', 'Primeira_mensagem']))\n",
    "    df = df.withColumn('num_bot', F.lit(ORIGIN_ID[origin]))\\\n",
    "      .withColumnRenamed(\"SourceTitle\", \"source_title\")\\\n",
    "      .withColumnRenamed(\"planoDescription\", \"plan_description\")\\\n",
    "      .withColumnRenamed(\"lastMessageDate\", \"last_message_date\")\\\n",
    "      .withColumnRenamed(\"city\", \"cidade\")\\\n",
    "      .drop(*columns_to_drop)\n",
    "    df = df.withColumnRenamed(\"primeira_mensagem1\", \"primeira_mensagem\")\n",
    "\n",
    "    dataframe_list.append(df)\n",
    "\n",
    "  final_dataframe = reduce_dataframe(dataframe_list)\n",
    "  final_dataframe = rename_columns(final_dataframe, columns_create_step)\n",
    "\n",
    "  dataframes_per_origin[origin] = final_dataframe"
   ]
  },
  {
   "cell_type": "code",
   "execution_count": 14,
   "id": "b701f102",
   "metadata": {
    "execution": {
     "iopub.execute_input": "2024-10-18T11:11:44.080880Z",
     "iopub.status.busy": "2024-10-18T11:11:44.080609Z",
     "iopub.status.idle": "2024-10-18T11:11:44.087871Z",
     "shell.execute_reply": "2024-10-18T11:11:44.087289Z"
    },
    "papermill": {
     "duration": 0.012007,
     "end_time": "2024-10-18T11:11:44.089141",
     "exception": false,
     "start_time": "2024-10-18T11:11:44.077134",
     "status": "completed"
    },
    "tags": []
   },
   "outputs": [],
   "source": [
    "step_columns = {\n",
    "  'etapa_cep': 1,\n",
    "  'etapa_cep_erro': 2,\n",
    "  'etapa_cep_invalido': 3,\n",
    "  'etapa_cep_invalido_erro': 4,\n",
    "  'etapa_num_casa': 5,\n",
    "  'etapa_num_casa_erro': 6,\n",
    "  'etapa_num_casa_invalido': 7,\n",
    "  'etapa_num_casa_invalido_erro': 8,\n",
    "  'etapa_exibe_planos': 9,\n",
    "  'etapa_exibe_planos_erro': 10,\n",
    "  'etapa_saber_mais': 11,\n",
    "  'etapa_email': 12,\n",
    "  'etapa_email_erro': 13,\n",
    "  'etapa_email_invalido': 14,\n",
    "  'etapa_email_invalido_erro': 15,\n",
    "  'etapa_cpf': 16,\n",
    "  'etapa_cpf_erro': 17,\n",
    "  'etapa_cpf_invalido': 18,\n",
    "  'etapa_cpf_invalido_erro': 19,\n",
    "  'etapa_nome': 20,\n",
    "  'etapa_nome_mae': 21,\n",
    "  'etapa_data_nascimento': 22,\n",
    "  'etapa_logradouro': 23,\n",
    "  'etapa_bairro': 24,\n",
    "  'etapa_complemento': 25,\n",
    "  'etapa_confirma_endereco': 26,\n",
    "  'etapa_confirma_endereco_erro': 27,\n",
    "  'etapa_altera_endereco': 28,\n",
    "  'etapa_altera_endereco_sv': 29,\n",
    "  'etapa_vencimento': 30,\n",
    "  'etapa_vencimento_erro': 31,\n",
    "  'etapa_vencimento_invalido': 32,\n",
    "  'etapa_tipo_fatura': 33,\n",
    "  'etapa_tipo_fatura_erro': 34,\n",
    "  'etapa_tipo_fatura_invalido': 35,\n",
    "  'etapa_tipo_fatura_invalido_erro': 36,\n",
    "  'etapa_banco': 37,\n",
    "  'etapa_banco_erro': 38,\n",
    "  'etapa_banco_invalido': 39,\n",
    "  'etapa_banco_invalido_erro': 40,\n",
    "  'etapa_agencia': 41,\n",
    "  'etapa_agencia_erro': 42,\n",
    "  'etapa_agencia_invalida': 43,\n",
    "  'etapa_agencia_invalida_erro': 44,\n",
    "  'etapa_conta': 45,\n",
    "  'etapa_conta_erro': 46,\n",
    "  'etapa_conta_invalida': 47,\n",
    "  'etapa_data_de_agendamento_1': 48,\n",
    "  'etapa_erro': 49,\n",
    "  'etapa_invalida': 50,\n",
    "  'etapa_invalida_erro': 51,\n",
    "  'etapa_data_de_agendamento_2': 52,\n",
    "  'etapa_erro': 53,\n",
    "  'etapa_invalida': 54,\n",
    "  'etapa_data_de_agendamento_3': 55,\n",
    "  'etapa_data_de_agendamento_3_erro': 56,\n",
    "  'etapa_data_de_agendamento_3_invalida': 57,\n",
    "  'etapa_data_de_agendamento_3_invalida_erro': 58,\n",
    "  'etapa_opt_in': 59,\n",
    "  'etapa_opt_in_erro': 60,\n",
    "  'etapa_finalizacao': 61,\n",
    "  'etapa_abandono_1': 62,\n",
    "  'etapa_abandono_2': 63,\n",
    "  'etapa_abandono_3': 64,\n",
    "  'etapa_abandono_5': 65,\n",
    "  'etapa_retomada': 66,\n",
    "}\n",
    "\n",
    "step_order = {k: v for k, v in sorted(step_columns.items(), key=lambda item: item[1])}\n"
   ]
  },
  {
   "cell_type": "code",
   "execution_count": 15,
   "id": "44c73109",
   "metadata": {
    "execution": {
     "iopub.execute_input": "2024-10-18T11:11:44.095633Z",
     "iopub.status.busy": "2024-10-18T11:11:44.095029Z",
     "iopub.status.idle": "2024-10-18T11:11:44.099600Z",
     "shell.execute_reply": "2024-10-18T11:11:44.099015Z"
    },
    "papermill": {
     "duration": 0.009161,
     "end_time": "2024-10-18T11:11:44.100796",
     "exception": false,
     "start_time": "2024-10-18T11:11:44.091635",
     "status": "completed"
    },
    "tags": []
   },
   "outputs": [],
   "source": [
    "valid_columns = [\n",
    "  'application_identifier', 'auto_sku', 'bairro', 'broadcast_list_id',\n",
    "  'broadcast_origem', 'campaign_id', 'campaign_message_template', 'campaign_originator',\n",
    "  'canal', 'carrinho_abandonado', 'cep', 'cidade', 'complemento', 'contratoda', 'contratofa', 'cpf',\n",
    "  'data_agendamento_1', 'data_agendamento_2', 'data_agendamento_3', 'data_nascimento',\n",
    "  'ddd', 'diferenca_preco', 'email', 'fatura_cliente', 'identificador_pedido', 'identity',\n",
    "  'last_message_date', 'logradouro', 'name', 'nome_mae', 'num_agencia', 'num_bot',\n",
    "  'num_conta', 'num_endereco', 'pedido_finalizado_fixa', 'pedido_finalizado_fixa_hora', 'phone_number',\n",
    "  'plan_description', 'plan_name', 'portabilidade', 'preco_base', 'preco_boleto', 'price',\n",
    "  'primeira_mensagem', 'produto', 'retomada', 'source', 'source_id',\n",
    "  'source_type', 'source_url', 'step', 'step_abandono', 'suporte',\n",
    "  'tag', 'tel_abandono', 'tipo', 'tipo_fatura', 'uf', 'utm_campaign',\n",
    "  'utm_medium', 'utm_source', 'utm_term', 'vencimento_fatura'\n",
    "]"
   ]
  },
  {
   "cell_type": "code",
   "execution_count": 16,
   "id": "717e9348",
   "metadata": {
    "execution": {
     "iopub.execute_input": "2024-10-18T11:11:44.106748Z",
     "iopub.status.busy": "2024-10-18T11:11:44.106236Z",
     "iopub.status.idle": "2024-10-18T11:15:31.096914Z",
     "shell.execute_reply": "2024-10-18T11:15:31.093569Z"
    },
    "papermill": {
     "duration": 226.996841,
     "end_time": "2024-10-18T11:15:31.099932",
     "exception": false,
     "start_time": "2024-10-18T11:11:44.103091",
     "status": "completed"
    },
    "tags": []
   },
   "outputs": [],
   "source": [
    "dataframes_from_all_origins = []\n",
    "\n",
    "for origin in ORIGINS:\n",
    "  if origin in dataframes_per_origin:\n",
    "    df = dataframes_per_origin[origin]\n",
    "\n",
    "    non_existing_step_columns = [col for col in step_columns.keys() if col not in df.columns]\n",
    "    non_step_columns = [col for col in df.columns if col not in step_columns.keys() and col in valid_columns]\n",
    "\n",
    "    for col in non_existing_step_columns:\n",
    "      df = df.withColumn(col, F.lit(False))\n",
    "\n",
    "    final_dataframe = df.select(non_step_columns + list(step_order.keys()))\n",
    "    dataframes_from_all_origins.append(final_dataframe)\n",
    "unified_dataframe = reduce_dataframe(dataframes_from_all_origins)\n",
    "unified_dataframe = convert_empty_string_to_null(unified_dataframe, unified_dataframe.columns)\n",
    "unified_dataframe.write.mode(\"overwrite\").parquet(get_path_in_curated_zone(CURRENT_DATE, \"bot_tim\"))"
   ]
  }
 ],
 "metadata": {
  "kernelspec": {
   "display_name": "Python 3.10.10 64-bit",
   "language": "python",
   "name": "python3"
  },
  "language_info": {
   "codemirror_mode": {
    "name": "ipython",
    "version": 3
   },
   "file_extension": ".py",
   "mimetype": "text/x-python",
   "name": "python",
   "nbconvert_exporter": "python",
   "pygments_lexer": "ipython3",
   "version": "3.11.8"
  },
  "papermill": {
   "default_parameters": {},
   "duration": 430.686912,
   "end_time": "2024-10-18T11:15:31.422523",
   "environment_variables": {},
   "exception": null,
   "input_path": "input_raw.ipynb",
   "output_path": "output_raw.ipynb",
   "parameters": {},
   "start_time": "2024-10-18T11:08:20.735611",
   "version": "2.4.0"
  },
  "vscode": {
   "interpreter": {
    "hash": "8a94588eda9d64d9e9a351ab8144e55b1fabf5113b54e67dd26a8c27df0381b3"
   }
  }
 },
 "nbformat": 4,
 "nbformat_minor": 5
}